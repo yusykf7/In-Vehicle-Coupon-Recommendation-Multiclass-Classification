{
  "nbformat": 4,
  "nbformat_minor": 0,
  "metadata": {
    "colab": {
      "provenance": []
    },
    "kernelspec": {
      "name": "python3",
      "display_name": "Python 3"
    },
    "language_info": {
      "name": "python"
    }
  },
  "cells": [
    {
      "cell_type": "code",
      "execution_count": 1,
      "metadata": {
        "id": "pX9brdyKhYFc"
      },
      "outputs": [],
      "source": [
        "import pandas as pd\n",
        "import numpy as np\n",
        "import seaborn as sns\n",
        "import math \n",
        "import tensorflow as tf\n",
        "import operator\n",
        "import matplotlib.pyplot as plt\n",
        "from tensorflow import keras\n",
        "import keras\n",
        "import timeit\n",
        "from tqdm import tqdm\n",
        "from keras.callbacks import EarlyStopping\n",
        "from sklearn import preprocessing\n",
        "from sklearn.feature_selection import chi2\n",
        "from sklearn.model_selection import train_test_split\n",
        "from sklearn.metrics import confusion_matrix\n",
        "from sklearn.metrics import classification_report\n",
        "from sklearn.metrics import accuracy_score, precision_score, recall_score, f1_score\n",
        "from sklearn.model_selection import cross_val_score\n",
        "from sklearn.model_selection import StratifiedKFold\n",
        "\n"
      ]
    },
    {
      "cell_type": "code",
      "source": [
        "from google.colab import files\n",
        "files= files.upload()"
      ],
      "metadata": {
        "colab": {
          "base_uri": "https://localhost:8080/",
          "height": 74
        },
        "id": "0-vA9RpbhctP",
        "outputId": "aefd4767-9686-479c-a6b0-948dbd341b39"
      },
      "execution_count": 2,
      "outputs": [
        {
          "output_type": "display_data",
          "data": {
            "text/plain": [
              "<IPython.core.display.HTML object>"
            ],
            "text/html": [
              "\n",
              "     <input type=\"file\" id=\"files-32737162-a04f-42bb-a389-fce5a9430bae\" name=\"files[]\" multiple disabled\n",
              "        style=\"border:none\" />\n",
              "     <output id=\"result-32737162-a04f-42bb-a389-fce5a9430bae\">\n",
              "      Upload widget is only available when the cell has been executed in the\n",
              "      current browser session. Please rerun this cell to enable.\n",
              "      </output>\n",
              "      <script>// Copyright 2017 Google LLC\n",
              "//\n",
              "// Licensed under the Apache License, Version 2.0 (the \"License\");\n",
              "// you may not use this file except in compliance with the License.\n",
              "// You may obtain a copy of the License at\n",
              "//\n",
              "//      http://www.apache.org/licenses/LICENSE-2.0\n",
              "//\n",
              "// Unless required by applicable law or agreed to in writing, software\n",
              "// distributed under the License is distributed on an \"AS IS\" BASIS,\n",
              "// WITHOUT WARRANTIES OR CONDITIONS OF ANY KIND, either express or implied.\n",
              "// See the License for the specific language governing permissions and\n",
              "// limitations under the License.\n",
              "\n",
              "/**\n",
              " * @fileoverview Helpers for google.colab Python module.\n",
              " */\n",
              "(function(scope) {\n",
              "function span(text, styleAttributes = {}) {\n",
              "  const element = document.createElement('span');\n",
              "  element.textContent = text;\n",
              "  for (const key of Object.keys(styleAttributes)) {\n",
              "    element.style[key] = styleAttributes[key];\n",
              "  }\n",
              "  return element;\n",
              "}\n",
              "\n",
              "// Max number of bytes which will be uploaded at a time.\n",
              "const MAX_PAYLOAD_SIZE = 100 * 1024;\n",
              "\n",
              "function _uploadFiles(inputId, outputId) {\n",
              "  const steps = uploadFilesStep(inputId, outputId);\n",
              "  const outputElement = document.getElementById(outputId);\n",
              "  // Cache steps on the outputElement to make it available for the next call\n",
              "  // to uploadFilesContinue from Python.\n",
              "  outputElement.steps = steps;\n",
              "\n",
              "  return _uploadFilesContinue(outputId);\n",
              "}\n",
              "\n",
              "// This is roughly an async generator (not supported in the browser yet),\n",
              "// where there are multiple asynchronous steps and the Python side is going\n",
              "// to poll for completion of each step.\n",
              "// This uses a Promise to block the python side on completion of each step,\n",
              "// then passes the result of the previous step as the input to the next step.\n",
              "function _uploadFilesContinue(outputId) {\n",
              "  const outputElement = document.getElementById(outputId);\n",
              "  const steps = outputElement.steps;\n",
              "\n",
              "  const next = steps.next(outputElement.lastPromiseValue);\n",
              "  return Promise.resolve(next.value.promise).then((value) => {\n",
              "    // Cache the last promise value to make it available to the next\n",
              "    // step of the generator.\n",
              "    outputElement.lastPromiseValue = value;\n",
              "    return next.value.response;\n",
              "  });\n",
              "}\n",
              "\n",
              "/**\n",
              " * Generator function which is called between each async step of the upload\n",
              " * process.\n",
              " * @param {string} inputId Element ID of the input file picker element.\n",
              " * @param {string} outputId Element ID of the output display.\n",
              " * @return {!Iterable<!Object>} Iterable of next steps.\n",
              " */\n",
              "function* uploadFilesStep(inputId, outputId) {\n",
              "  const inputElement = document.getElementById(inputId);\n",
              "  inputElement.disabled = false;\n",
              "\n",
              "  const outputElement = document.getElementById(outputId);\n",
              "  outputElement.innerHTML = '';\n",
              "\n",
              "  const pickedPromise = new Promise((resolve) => {\n",
              "    inputElement.addEventListener('change', (e) => {\n",
              "      resolve(e.target.files);\n",
              "    });\n",
              "  });\n",
              "\n",
              "  const cancel = document.createElement('button');\n",
              "  inputElement.parentElement.appendChild(cancel);\n",
              "  cancel.textContent = 'Cancel upload';\n",
              "  const cancelPromise = new Promise((resolve) => {\n",
              "    cancel.onclick = () => {\n",
              "      resolve(null);\n",
              "    };\n",
              "  });\n",
              "\n",
              "  // Wait for the user to pick the files.\n",
              "  const files = yield {\n",
              "    promise: Promise.race([pickedPromise, cancelPromise]),\n",
              "    response: {\n",
              "      action: 'starting',\n",
              "    }\n",
              "  };\n",
              "\n",
              "  cancel.remove();\n",
              "\n",
              "  // Disable the input element since further picks are not allowed.\n",
              "  inputElement.disabled = true;\n",
              "\n",
              "  if (!files) {\n",
              "    return {\n",
              "      response: {\n",
              "        action: 'complete',\n",
              "      }\n",
              "    };\n",
              "  }\n",
              "\n",
              "  for (const file of files) {\n",
              "    const li = document.createElement('li');\n",
              "    li.append(span(file.name, {fontWeight: 'bold'}));\n",
              "    li.append(span(\n",
              "        `(${file.type || 'n/a'}) - ${file.size} bytes, ` +\n",
              "        `last modified: ${\n",
              "            file.lastModifiedDate ? file.lastModifiedDate.toLocaleDateString() :\n",
              "                                    'n/a'} - `));\n",
              "    const percent = span('0% done');\n",
              "    li.appendChild(percent);\n",
              "\n",
              "    outputElement.appendChild(li);\n",
              "\n",
              "    const fileDataPromise = new Promise((resolve) => {\n",
              "      const reader = new FileReader();\n",
              "      reader.onload = (e) => {\n",
              "        resolve(e.target.result);\n",
              "      };\n",
              "      reader.readAsArrayBuffer(file);\n",
              "    });\n",
              "    // Wait for the data to be ready.\n",
              "    let fileData = yield {\n",
              "      promise: fileDataPromise,\n",
              "      response: {\n",
              "        action: 'continue',\n",
              "      }\n",
              "    };\n",
              "\n",
              "    // Use a chunked sending to avoid message size limits. See b/62115660.\n",
              "    let position = 0;\n",
              "    do {\n",
              "      const length = Math.min(fileData.byteLength - position, MAX_PAYLOAD_SIZE);\n",
              "      const chunk = new Uint8Array(fileData, position, length);\n",
              "      position += length;\n",
              "\n",
              "      const base64 = btoa(String.fromCharCode.apply(null, chunk));\n",
              "      yield {\n",
              "        response: {\n",
              "          action: 'append',\n",
              "          file: file.name,\n",
              "          data: base64,\n",
              "        },\n",
              "      };\n",
              "\n",
              "      let percentDone = fileData.byteLength === 0 ?\n",
              "          100 :\n",
              "          Math.round((position / fileData.byteLength) * 100);\n",
              "      percent.textContent = `${percentDone}% done`;\n",
              "\n",
              "    } while (position < fileData.byteLength);\n",
              "  }\n",
              "\n",
              "  // All done.\n",
              "  yield {\n",
              "    response: {\n",
              "      action: 'complete',\n",
              "    }\n",
              "  };\n",
              "}\n",
              "\n",
              "scope.google = scope.google || {};\n",
              "scope.google.colab = scope.google.colab || {};\n",
              "scope.google.colab._files = {\n",
              "  _uploadFiles,\n",
              "  _uploadFilesContinue,\n",
              "};\n",
              "})(self);\n",
              "</script> "
            ]
          },
          "metadata": {}
        },
        {
          "output_type": "stream",
          "name": "stdout",
          "text": [
            "Saving in-vehicle-coupon-recommendation.csv to in-vehicle-coupon-recommendation.csv\n"
          ]
        }
      ]
    },
    {
      "cell_type": "code",
      "source": [
        "df= pd.read_csv(\"in-vehicle-coupon-recommendation.csv\")\n",
        "df.head()"
      ],
      "metadata": {
        "colab": {
          "base_uri": "https://localhost:8080/",
          "height": 386
        },
        "id": "XkLcyEdGhf8D",
        "outputId": "62f0deea-1076-49c0-cdf7-cbbeabde41f7"
      },
      "execution_count": 3,
      "outputs": [
        {
          "output_type": "execute_result",
          "data": {
            "text/plain": [
              "       destination  passanger weather  temperature  time  \\\n",
              "0  No Urgent Place      Alone   Sunny           55   2PM   \n",
              "1  No Urgent Place  Friend(s)   Sunny           80  10AM   \n",
              "2  No Urgent Place  Friend(s)   Sunny           80  10AM   \n",
              "3  No Urgent Place  Friend(s)   Sunny           80   2PM   \n",
              "4  No Urgent Place  Friend(s)   Sunny           80   2PM   \n",
              "\n",
              "                  coupon expiration  gender age      maritalStatus  ...  \\\n",
              "0        Restaurant(<20)         1d  Female  21  Unmarried partner  ...   \n",
              "1           Coffee House         2h  Female  21  Unmarried partner  ...   \n",
              "2  Carry out & Take away         2h  Female  21  Unmarried partner  ...   \n",
              "3           Coffee House         2h  Female  21  Unmarried partner  ...   \n",
              "4           Coffee House         1d  Female  21  Unmarried partner  ...   \n",
              "\n",
              "   CoffeeHouse CarryAway RestaurantLessThan20 Restaurant20To50  \\\n",
              "0        never       NaN                  4~8              1~3   \n",
              "1        never       NaN                  4~8              1~3   \n",
              "2        never       NaN                  4~8              1~3   \n",
              "3        never       NaN                  4~8              1~3   \n",
              "4        never       NaN                  4~8              1~3   \n",
              "\n",
              "  toCoupon_GEQ5min toCoupon_GEQ15min toCoupon_GEQ25min direction_same  \\\n",
              "0                1                 0                 0              0   \n",
              "1                1                 0                 0              0   \n",
              "2                1                 1                 0              0   \n",
              "3                1                 1                 0              0   \n",
              "4                1                 1                 0              0   \n",
              "\n",
              "  direction_opp  Y  \n",
              "0             1  1  \n",
              "1             1  0  \n",
              "2             1  1  \n",
              "3             1  0  \n",
              "4             1  0  \n",
              "\n",
              "[5 rows x 26 columns]"
            ],
            "text/html": [
              "\n",
              "  <div id=\"df-aaacd179-acff-4c10-9a6f-d9bd9c84e92f\">\n",
              "    <div class=\"colab-df-container\">\n",
              "      <div>\n",
              "<style scoped>\n",
              "    .dataframe tbody tr th:only-of-type {\n",
              "        vertical-align: middle;\n",
              "    }\n",
              "\n",
              "    .dataframe tbody tr th {\n",
              "        vertical-align: top;\n",
              "    }\n",
              "\n",
              "    .dataframe thead th {\n",
              "        text-align: right;\n",
              "    }\n",
              "</style>\n",
              "<table border=\"1\" class=\"dataframe\">\n",
              "  <thead>\n",
              "    <tr style=\"text-align: right;\">\n",
              "      <th></th>\n",
              "      <th>destination</th>\n",
              "      <th>passanger</th>\n",
              "      <th>weather</th>\n",
              "      <th>temperature</th>\n",
              "      <th>time</th>\n",
              "      <th>coupon</th>\n",
              "      <th>expiration</th>\n",
              "      <th>gender</th>\n",
              "      <th>age</th>\n",
              "      <th>maritalStatus</th>\n",
              "      <th>...</th>\n",
              "      <th>CoffeeHouse</th>\n",
              "      <th>CarryAway</th>\n",
              "      <th>RestaurantLessThan20</th>\n",
              "      <th>Restaurant20To50</th>\n",
              "      <th>toCoupon_GEQ5min</th>\n",
              "      <th>toCoupon_GEQ15min</th>\n",
              "      <th>toCoupon_GEQ25min</th>\n",
              "      <th>direction_same</th>\n",
              "      <th>direction_opp</th>\n",
              "      <th>Y</th>\n",
              "    </tr>\n",
              "  </thead>\n",
              "  <tbody>\n",
              "    <tr>\n",
              "      <th>0</th>\n",
              "      <td>No Urgent Place</td>\n",
              "      <td>Alone</td>\n",
              "      <td>Sunny</td>\n",
              "      <td>55</td>\n",
              "      <td>2PM</td>\n",
              "      <td>Restaurant(&lt;20)</td>\n",
              "      <td>1d</td>\n",
              "      <td>Female</td>\n",
              "      <td>21</td>\n",
              "      <td>Unmarried partner</td>\n",
              "      <td>...</td>\n",
              "      <td>never</td>\n",
              "      <td>NaN</td>\n",
              "      <td>4~8</td>\n",
              "      <td>1~3</td>\n",
              "      <td>1</td>\n",
              "      <td>0</td>\n",
              "      <td>0</td>\n",
              "      <td>0</td>\n",
              "      <td>1</td>\n",
              "      <td>1</td>\n",
              "    </tr>\n",
              "    <tr>\n",
              "      <th>1</th>\n",
              "      <td>No Urgent Place</td>\n",
              "      <td>Friend(s)</td>\n",
              "      <td>Sunny</td>\n",
              "      <td>80</td>\n",
              "      <td>10AM</td>\n",
              "      <td>Coffee House</td>\n",
              "      <td>2h</td>\n",
              "      <td>Female</td>\n",
              "      <td>21</td>\n",
              "      <td>Unmarried partner</td>\n",
              "      <td>...</td>\n",
              "      <td>never</td>\n",
              "      <td>NaN</td>\n",
              "      <td>4~8</td>\n",
              "      <td>1~3</td>\n",
              "      <td>1</td>\n",
              "      <td>0</td>\n",
              "      <td>0</td>\n",
              "      <td>0</td>\n",
              "      <td>1</td>\n",
              "      <td>0</td>\n",
              "    </tr>\n",
              "    <tr>\n",
              "      <th>2</th>\n",
              "      <td>No Urgent Place</td>\n",
              "      <td>Friend(s)</td>\n",
              "      <td>Sunny</td>\n",
              "      <td>80</td>\n",
              "      <td>10AM</td>\n",
              "      <td>Carry out &amp; Take away</td>\n",
              "      <td>2h</td>\n",
              "      <td>Female</td>\n",
              "      <td>21</td>\n",
              "      <td>Unmarried partner</td>\n",
              "      <td>...</td>\n",
              "      <td>never</td>\n",
              "      <td>NaN</td>\n",
              "      <td>4~8</td>\n",
              "      <td>1~3</td>\n",
              "      <td>1</td>\n",
              "      <td>1</td>\n",
              "      <td>0</td>\n",
              "      <td>0</td>\n",
              "      <td>1</td>\n",
              "      <td>1</td>\n",
              "    </tr>\n",
              "    <tr>\n",
              "      <th>3</th>\n",
              "      <td>No Urgent Place</td>\n",
              "      <td>Friend(s)</td>\n",
              "      <td>Sunny</td>\n",
              "      <td>80</td>\n",
              "      <td>2PM</td>\n",
              "      <td>Coffee House</td>\n",
              "      <td>2h</td>\n",
              "      <td>Female</td>\n",
              "      <td>21</td>\n",
              "      <td>Unmarried partner</td>\n",
              "      <td>...</td>\n",
              "      <td>never</td>\n",
              "      <td>NaN</td>\n",
              "      <td>4~8</td>\n",
              "      <td>1~3</td>\n",
              "      <td>1</td>\n",
              "      <td>1</td>\n",
              "      <td>0</td>\n",
              "      <td>0</td>\n",
              "      <td>1</td>\n",
              "      <td>0</td>\n",
              "    </tr>\n",
              "    <tr>\n",
              "      <th>4</th>\n",
              "      <td>No Urgent Place</td>\n",
              "      <td>Friend(s)</td>\n",
              "      <td>Sunny</td>\n",
              "      <td>80</td>\n",
              "      <td>2PM</td>\n",
              "      <td>Coffee House</td>\n",
              "      <td>1d</td>\n",
              "      <td>Female</td>\n",
              "      <td>21</td>\n",
              "      <td>Unmarried partner</td>\n",
              "      <td>...</td>\n",
              "      <td>never</td>\n",
              "      <td>NaN</td>\n",
              "      <td>4~8</td>\n",
              "      <td>1~3</td>\n",
              "      <td>1</td>\n",
              "      <td>1</td>\n",
              "      <td>0</td>\n",
              "      <td>0</td>\n",
              "      <td>1</td>\n",
              "      <td>0</td>\n",
              "    </tr>\n",
              "  </tbody>\n",
              "</table>\n",
              "<p>5 rows × 26 columns</p>\n",
              "</div>\n",
              "      <button class=\"colab-df-convert\" onclick=\"convertToInteractive('df-aaacd179-acff-4c10-9a6f-d9bd9c84e92f')\"\n",
              "              title=\"Convert this dataframe to an interactive table.\"\n",
              "              style=\"display:none;\">\n",
              "        \n",
              "  <svg xmlns=\"http://www.w3.org/2000/svg\" height=\"24px\"viewBox=\"0 0 24 24\"\n",
              "       width=\"24px\">\n",
              "    <path d=\"M0 0h24v24H0V0z\" fill=\"none\"/>\n",
              "    <path d=\"M18.56 5.44l.94 2.06.94-2.06 2.06-.94-2.06-.94-.94-2.06-.94 2.06-2.06.94zm-11 1L8.5 8.5l.94-2.06 2.06-.94-2.06-.94L8.5 2.5l-.94 2.06-2.06.94zm10 10l.94 2.06.94-2.06 2.06-.94-2.06-.94-.94-2.06-.94 2.06-2.06.94z\"/><path d=\"M17.41 7.96l-1.37-1.37c-.4-.4-.92-.59-1.43-.59-.52 0-1.04.2-1.43.59L10.3 9.45l-7.72 7.72c-.78.78-.78 2.05 0 2.83L4 21.41c.39.39.9.59 1.41.59.51 0 1.02-.2 1.41-.59l7.78-7.78 2.81-2.81c.8-.78.8-2.07 0-2.86zM5.41 20L4 18.59l7.72-7.72 1.47 1.35L5.41 20z\"/>\n",
              "  </svg>\n",
              "      </button>\n",
              "      \n",
              "  <style>\n",
              "    .colab-df-container {\n",
              "      display:flex;\n",
              "      flex-wrap:wrap;\n",
              "      gap: 12px;\n",
              "    }\n",
              "\n",
              "    .colab-df-convert {\n",
              "      background-color: #E8F0FE;\n",
              "      border: none;\n",
              "      border-radius: 50%;\n",
              "      cursor: pointer;\n",
              "      display: none;\n",
              "      fill: #1967D2;\n",
              "      height: 32px;\n",
              "      padding: 0 0 0 0;\n",
              "      width: 32px;\n",
              "    }\n",
              "\n",
              "    .colab-df-convert:hover {\n",
              "      background-color: #E2EBFA;\n",
              "      box-shadow: 0px 1px 2px rgba(60, 64, 67, 0.3), 0px 1px 3px 1px rgba(60, 64, 67, 0.15);\n",
              "      fill: #174EA6;\n",
              "    }\n",
              "\n",
              "    [theme=dark] .colab-df-convert {\n",
              "      background-color: #3B4455;\n",
              "      fill: #D2E3FC;\n",
              "    }\n",
              "\n",
              "    [theme=dark] .colab-df-convert:hover {\n",
              "      background-color: #434B5C;\n",
              "      box-shadow: 0px 1px 3px 1px rgba(0, 0, 0, 0.15);\n",
              "      filter: drop-shadow(0px 1px 2px rgba(0, 0, 0, 0.3));\n",
              "      fill: #FFFFFF;\n",
              "    }\n",
              "  </style>\n",
              "\n",
              "      <script>\n",
              "        const buttonEl =\n",
              "          document.querySelector('#df-aaacd179-acff-4c10-9a6f-d9bd9c84e92f button.colab-df-convert');\n",
              "        buttonEl.style.display =\n",
              "          google.colab.kernel.accessAllowed ? 'block' : 'none';\n",
              "\n",
              "        async function convertToInteractive(key) {\n",
              "          const element = document.querySelector('#df-aaacd179-acff-4c10-9a6f-d9bd9c84e92f');\n",
              "          const dataTable =\n",
              "            await google.colab.kernel.invokeFunction('convertToInteractive',\n",
              "                                                     [key], {});\n",
              "          if (!dataTable) return;\n",
              "\n",
              "          const docLinkHtml = 'Like what you see? Visit the ' +\n",
              "            '<a target=\"_blank\" href=https://colab.research.google.com/notebooks/data_table.ipynb>data table notebook</a>'\n",
              "            + ' to learn more about interactive tables.';\n",
              "          element.innerHTML = '';\n",
              "          dataTable['output_type'] = 'display_data';\n",
              "          await google.colab.output.renderOutput(dataTable, element);\n",
              "          const docLink = document.createElement('div');\n",
              "          docLink.innerHTML = docLinkHtml;\n",
              "          element.appendChild(docLink);\n",
              "        }\n",
              "      </script>\n",
              "    </div>\n",
              "  </div>\n",
              "  "
            ]
          },
          "metadata": {},
          "execution_count": 3
        }
      ]
    },
    {
      "cell_type": "markdown",
      "source": [
        "# Explanatory Data Analysis \n",
        "\n",
        "\n",
        "\n",
        "*   Data Cleaning\n",
        "*   Statistical Analysis\n",
        "*   Feature Transformation \n",
        "*   Data Encoding\n",
        "*   Feature Selection\n",
        "\n",
        "\n",
        "\n",
        "\n"
      ],
      "metadata": {
        "id": "s-GJsv6VZPGG"
      }
    },
    {
      "cell_type": "markdown",
      "source": [
        "Data Cleaning:"
      ],
      "metadata": {
        "id": "33a-dI3Ia4vw"
      }
    },
    {
      "cell_type": "code",
      "source": [
        "#drop dupilicate data\n",
        "df = df.drop_duplicates()"
      ],
      "metadata": {
        "id": "VMOJUTuWhjmu"
      },
      "execution_count": 4,
      "outputs": []
    },
    {
      "cell_type": "code",
      "source": [
        "# check missing value\n",
        "df.isnull().sum()"
      ],
      "metadata": {
        "colab": {
          "base_uri": "https://localhost:8080/"
        },
        "id": "OuZJxppxhmrD",
        "outputId": "88491909-162d-44cf-8b64-d86f50588ebb"
      },
      "execution_count": 5,
      "outputs": [
        {
          "output_type": "execute_result",
          "data": {
            "text/plain": [
              "destination                 0\n",
              "passanger                   0\n",
              "weather                     0\n",
              "temperature                 0\n",
              "time                        0\n",
              "coupon                      0\n",
              "expiration                  0\n",
              "gender                      0\n",
              "age                         0\n",
              "maritalStatus               0\n",
              "has_children                0\n",
              "education                   0\n",
              "occupation                  0\n",
              "income                      0\n",
              "car                     12502\n",
              "Bar                       107\n",
              "CoffeeHouse               217\n",
              "CarryAway                 150\n",
              "RestaurantLessThan20      129\n",
              "Restaurant20To50          189\n",
              "toCoupon_GEQ5min            0\n",
              "toCoupon_GEQ15min           0\n",
              "toCoupon_GEQ25min           0\n",
              "direction_same              0\n",
              "direction_opp               0\n",
              "Y                           0\n",
              "dtype: int64"
            ]
          },
          "metadata": {},
          "execution_count": 5
        }
      ]
    },
    {
      "cell_type": "code",
      "source": [
        "# fill na with mode\n",
        "df = df.drop(columns=['car'])\n",
        "df['Bar'].fillna(df['Bar'].mode()[0], inplace=True)\n",
        "df['CoffeeHouse'].fillna(df['CoffeeHouse'].mode()[0], inplace=True)\n",
        "df['CarryAway'].fillna(df['CarryAway'].mode()[0], inplace=True)\n",
        "df['RestaurantLessThan20'].fillna(df['RestaurantLessThan20'].mode()[0], inplace=True)\n",
        "df['Restaurant20To50'].fillna(df['Restaurant20To50'].mode()[0], inplace=True)"
      ],
      "metadata": {
        "id": "Q_O3CBM1hoxO"
      },
      "execution_count": 6,
      "outputs": []
    },
    {
      "cell_type": "code",
      "source": [
        "df.isnull().sum()"
      ],
      "metadata": {
        "colab": {
          "base_uri": "https://localhost:8080/"
        },
        "id": "yF1k__c7hrX8",
        "outputId": "f8362995-2d69-4ef4-f11a-20960e3129ad"
      },
      "execution_count": 7,
      "outputs": [
        {
          "output_type": "execute_result",
          "data": {
            "text/plain": [
              "destination             0\n",
              "passanger               0\n",
              "weather                 0\n",
              "temperature             0\n",
              "time                    0\n",
              "coupon                  0\n",
              "expiration              0\n",
              "gender                  0\n",
              "age                     0\n",
              "maritalStatus           0\n",
              "has_children            0\n",
              "education               0\n",
              "occupation              0\n",
              "income                  0\n",
              "Bar                     0\n",
              "CoffeeHouse             0\n",
              "CarryAway               0\n",
              "RestaurantLessThan20    0\n",
              "Restaurant20To50        0\n",
              "toCoupon_GEQ5min        0\n",
              "toCoupon_GEQ15min       0\n",
              "toCoupon_GEQ25min       0\n",
              "direction_same          0\n",
              "direction_opp           0\n",
              "Y                       0\n",
              "dtype: int64"
            ]
          },
          "metadata": {},
          "execution_count": 7
        }
      ]
    },
    {
      "cell_type": "code",
      "source": [
        "df.info()"
      ],
      "metadata": {
        "colab": {
          "base_uri": "https://localhost:8080/"
        },
        "id": "QiXWo8d26ldv",
        "outputId": "eebda306-7827-4971-c662-9f4f685e8238"
      },
      "execution_count": 8,
      "outputs": [
        {
          "output_type": "stream",
          "name": "stdout",
          "text": [
            "<class 'pandas.core.frame.DataFrame'>\n",
            "Int64Index: 12610 entries, 0 to 12683\n",
            "Data columns (total 25 columns):\n",
            " #   Column                Non-Null Count  Dtype \n",
            "---  ------                --------------  ----- \n",
            " 0   destination           12610 non-null  object\n",
            " 1   passanger             12610 non-null  object\n",
            " 2   weather               12610 non-null  object\n",
            " 3   temperature           12610 non-null  int64 \n",
            " 4   time                  12610 non-null  object\n",
            " 5   coupon                12610 non-null  object\n",
            " 6   expiration            12610 non-null  object\n",
            " 7   gender                12610 non-null  object\n",
            " 8   age                   12610 non-null  object\n",
            " 9   maritalStatus         12610 non-null  object\n",
            " 10  has_children          12610 non-null  int64 \n",
            " 11  education             12610 non-null  object\n",
            " 12  occupation            12610 non-null  object\n",
            " 13  income                12610 non-null  object\n",
            " 14  Bar                   12610 non-null  object\n",
            " 15  CoffeeHouse           12610 non-null  object\n",
            " 16  CarryAway             12610 non-null  object\n",
            " 17  RestaurantLessThan20  12610 non-null  object\n",
            " 18  Restaurant20To50      12610 non-null  object\n",
            " 19  toCoupon_GEQ5min      12610 non-null  int64 \n",
            " 20  toCoupon_GEQ15min     12610 non-null  int64 \n",
            " 21  toCoupon_GEQ25min     12610 non-null  int64 \n",
            " 22  direction_same        12610 non-null  int64 \n",
            " 23  direction_opp         12610 non-null  int64 \n",
            " 24  Y                     12610 non-null  int64 \n",
            "dtypes: int64(8), object(17)\n",
            "memory usage: 2.5+ MB\n"
          ]
        }
      ]
    },
    {
      "cell_type": "code",
      "source": [
        "df.describe()"
      ],
      "metadata": {
        "colab": {
          "base_uri": "https://localhost:8080/",
          "height": 300
        },
        "id": "wLrvg5zsYhH4",
        "outputId": "b68ee1f0-c67c-4327-c17c-ca5ddd46a1d8"
      },
      "execution_count": 9,
      "outputs": [
        {
          "output_type": "execute_result",
          "data": {
            "text/plain": [
              "        temperature  has_children  toCoupon_GEQ5min  toCoupon_GEQ15min  \\\n",
              "count  12610.000000  12610.000000           12610.0       12610.000000   \n",
              "mean      63.267248      0.414512               1.0           0.559794   \n",
              "std       19.153386      0.492657               0.0           0.496432   \n",
              "min       30.000000      0.000000               1.0           0.000000   \n",
              "25%       55.000000      0.000000               1.0           0.000000   \n",
              "50%       80.000000      0.000000               1.0           1.000000   \n",
              "75%       80.000000      1.000000               1.0           1.000000   \n",
              "max       80.000000      1.000000               1.0           1.000000   \n",
              "\n",
              "       toCoupon_GEQ25min  direction_same  direction_opp             Y  \n",
              "count       12610.000000    12610.000000   12610.000000  12610.000000  \n",
              "mean            0.116019        0.215543       0.784457      0.567565  \n",
              "std             0.320260        0.411215       0.411215      0.495434  \n",
              "min             0.000000        0.000000       0.000000      0.000000  \n",
              "25%             0.000000        0.000000       1.000000      0.000000  \n",
              "50%             0.000000        0.000000       1.000000      1.000000  \n",
              "75%             0.000000        0.000000       1.000000      1.000000  \n",
              "max             1.000000        1.000000       1.000000      1.000000  "
            ],
            "text/html": [
              "\n",
              "  <div id=\"df-329e2215-c6df-4891-8c77-e185d2ca1470\">\n",
              "    <div class=\"colab-df-container\">\n",
              "      <div>\n",
              "<style scoped>\n",
              "    .dataframe tbody tr th:only-of-type {\n",
              "        vertical-align: middle;\n",
              "    }\n",
              "\n",
              "    .dataframe tbody tr th {\n",
              "        vertical-align: top;\n",
              "    }\n",
              "\n",
              "    .dataframe thead th {\n",
              "        text-align: right;\n",
              "    }\n",
              "</style>\n",
              "<table border=\"1\" class=\"dataframe\">\n",
              "  <thead>\n",
              "    <tr style=\"text-align: right;\">\n",
              "      <th></th>\n",
              "      <th>temperature</th>\n",
              "      <th>has_children</th>\n",
              "      <th>toCoupon_GEQ5min</th>\n",
              "      <th>toCoupon_GEQ15min</th>\n",
              "      <th>toCoupon_GEQ25min</th>\n",
              "      <th>direction_same</th>\n",
              "      <th>direction_opp</th>\n",
              "      <th>Y</th>\n",
              "    </tr>\n",
              "  </thead>\n",
              "  <tbody>\n",
              "    <tr>\n",
              "      <th>count</th>\n",
              "      <td>12610.000000</td>\n",
              "      <td>12610.000000</td>\n",
              "      <td>12610.0</td>\n",
              "      <td>12610.000000</td>\n",
              "      <td>12610.000000</td>\n",
              "      <td>12610.000000</td>\n",
              "      <td>12610.000000</td>\n",
              "      <td>12610.000000</td>\n",
              "    </tr>\n",
              "    <tr>\n",
              "      <th>mean</th>\n",
              "      <td>63.267248</td>\n",
              "      <td>0.414512</td>\n",
              "      <td>1.0</td>\n",
              "      <td>0.559794</td>\n",
              "      <td>0.116019</td>\n",
              "      <td>0.215543</td>\n",
              "      <td>0.784457</td>\n",
              "      <td>0.567565</td>\n",
              "    </tr>\n",
              "    <tr>\n",
              "      <th>std</th>\n",
              "      <td>19.153386</td>\n",
              "      <td>0.492657</td>\n",
              "      <td>0.0</td>\n",
              "      <td>0.496432</td>\n",
              "      <td>0.320260</td>\n",
              "      <td>0.411215</td>\n",
              "      <td>0.411215</td>\n",
              "      <td>0.495434</td>\n",
              "    </tr>\n",
              "    <tr>\n",
              "      <th>min</th>\n",
              "      <td>30.000000</td>\n",
              "      <td>0.000000</td>\n",
              "      <td>1.0</td>\n",
              "      <td>0.000000</td>\n",
              "      <td>0.000000</td>\n",
              "      <td>0.000000</td>\n",
              "      <td>0.000000</td>\n",
              "      <td>0.000000</td>\n",
              "    </tr>\n",
              "    <tr>\n",
              "      <th>25%</th>\n",
              "      <td>55.000000</td>\n",
              "      <td>0.000000</td>\n",
              "      <td>1.0</td>\n",
              "      <td>0.000000</td>\n",
              "      <td>0.000000</td>\n",
              "      <td>0.000000</td>\n",
              "      <td>1.000000</td>\n",
              "      <td>0.000000</td>\n",
              "    </tr>\n",
              "    <tr>\n",
              "      <th>50%</th>\n",
              "      <td>80.000000</td>\n",
              "      <td>0.000000</td>\n",
              "      <td>1.0</td>\n",
              "      <td>1.000000</td>\n",
              "      <td>0.000000</td>\n",
              "      <td>0.000000</td>\n",
              "      <td>1.000000</td>\n",
              "      <td>1.000000</td>\n",
              "    </tr>\n",
              "    <tr>\n",
              "      <th>75%</th>\n",
              "      <td>80.000000</td>\n",
              "      <td>1.000000</td>\n",
              "      <td>1.0</td>\n",
              "      <td>1.000000</td>\n",
              "      <td>0.000000</td>\n",
              "      <td>0.000000</td>\n",
              "      <td>1.000000</td>\n",
              "      <td>1.000000</td>\n",
              "    </tr>\n",
              "    <tr>\n",
              "      <th>max</th>\n",
              "      <td>80.000000</td>\n",
              "      <td>1.000000</td>\n",
              "      <td>1.0</td>\n",
              "      <td>1.000000</td>\n",
              "      <td>1.000000</td>\n",
              "      <td>1.000000</td>\n",
              "      <td>1.000000</td>\n",
              "      <td>1.000000</td>\n",
              "    </tr>\n",
              "  </tbody>\n",
              "</table>\n",
              "</div>\n",
              "      <button class=\"colab-df-convert\" onclick=\"convertToInteractive('df-329e2215-c6df-4891-8c77-e185d2ca1470')\"\n",
              "              title=\"Convert this dataframe to an interactive table.\"\n",
              "              style=\"display:none;\">\n",
              "        \n",
              "  <svg xmlns=\"http://www.w3.org/2000/svg\" height=\"24px\"viewBox=\"0 0 24 24\"\n",
              "       width=\"24px\">\n",
              "    <path d=\"M0 0h24v24H0V0z\" fill=\"none\"/>\n",
              "    <path d=\"M18.56 5.44l.94 2.06.94-2.06 2.06-.94-2.06-.94-.94-2.06-.94 2.06-2.06.94zm-11 1L8.5 8.5l.94-2.06 2.06-.94-2.06-.94L8.5 2.5l-.94 2.06-2.06.94zm10 10l.94 2.06.94-2.06 2.06-.94-2.06-.94-.94-2.06-.94 2.06-2.06.94z\"/><path d=\"M17.41 7.96l-1.37-1.37c-.4-.4-.92-.59-1.43-.59-.52 0-1.04.2-1.43.59L10.3 9.45l-7.72 7.72c-.78.78-.78 2.05 0 2.83L4 21.41c.39.39.9.59 1.41.59.51 0 1.02-.2 1.41-.59l7.78-7.78 2.81-2.81c.8-.78.8-2.07 0-2.86zM5.41 20L4 18.59l7.72-7.72 1.47 1.35L5.41 20z\"/>\n",
              "  </svg>\n",
              "      </button>\n",
              "      \n",
              "  <style>\n",
              "    .colab-df-container {\n",
              "      display:flex;\n",
              "      flex-wrap:wrap;\n",
              "      gap: 12px;\n",
              "    }\n",
              "\n",
              "    .colab-df-convert {\n",
              "      background-color: #E8F0FE;\n",
              "      border: none;\n",
              "      border-radius: 50%;\n",
              "      cursor: pointer;\n",
              "      display: none;\n",
              "      fill: #1967D2;\n",
              "      height: 32px;\n",
              "      padding: 0 0 0 0;\n",
              "      width: 32px;\n",
              "    }\n",
              "\n",
              "    .colab-df-convert:hover {\n",
              "      background-color: #E2EBFA;\n",
              "      box-shadow: 0px 1px 2px rgba(60, 64, 67, 0.3), 0px 1px 3px 1px rgba(60, 64, 67, 0.15);\n",
              "      fill: #174EA6;\n",
              "    }\n",
              "\n",
              "    [theme=dark] .colab-df-convert {\n",
              "      background-color: #3B4455;\n",
              "      fill: #D2E3FC;\n",
              "    }\n",
              "\n",
              "    [theme=dark] .colab-df-convert:hover {\n",
              "      background-color: #434B5C;\n",
              "      box-shadow: 0px 1px 3px 1px rgba(0, 0, 0, 0.15);\n",
              "      filter: drop-shadow(0px 1px 2px rgba(0, 0, 0, 0.3));\n",
              "      fill: #FFFFFF;\n",
              "    }\n",
              "  </style>\n",
              "\n",
              "      <script>\n",
              "        const buttonEl =\n",
              "          document.querySelector('#df-329e2215-c6df-4891-8c77-e185d2ca1470 button.colab-df-convert');\n",
              "        buttonEl.style.display =\n",
              "          google.colab.kernel.accessAllowed ? 'block' : 'none';\n",
              "\n",
              "        async function convertToInteractive(key) {\n",
              "          const element = document.querySelector('#df-329e2215-c6df-4891-8c77-e185d2ca1470');\n",
              "          const dataTable =\n",
              "            await google.colab.kernel.invokeFunction('convertToInteractive',\n",
              "                                                     [key], {});\n",
              "          if (!dataTable) return;\n",
              "\n",
              "          const docLinkHtml = 'Like what you see? Visit the ' +\n",
              "            '<a target=\"_blank\" href=https://colab.research.google.com/notebooks/data_table.ipynb>data table notebook</a>'\n",
              "            + ' to learn more about interactive tables.';\n",
              "          element.innerHTML = '';\n",
              "          dataTable['output_type'] = 'display_data';\n",
              "          await google.colab.output.renderOutput(dataTable, element);\n",
              "          const docLink = document.createElement('div');\n",
              "          docLink.innerHTML = docLinkHtml;\n",
              "          element.appendChild(docLink);\n",
              "        }\n",
              "      </script>\n",
              "    </div>\n",
              "  </div>\n",
              "  "
            ]
          },
          "metadata": {},
          "execution_count": 9
        }
      ]
    },
    {
      "cell_type": "markdown",
      "source": [
        "Statistical Analysis"
      ],
      "metadata": {
        "id": "OVYBPJJ27CFo"
      }
    },
    {
      "cell_type": "code",
      "source": [
        "# Distribution of classes\n",
        "sns.set(rc={\"figure.figsize\":(8,4)})\n",
        "sns.countplot(x='Y', data=df)\n",
        "Y_counts = df.groupby('Y').Y.count()\n",
        "print('Accepted coupon:',Y_counts[1],round(Y_counts[1]/df.shape[0]*100,2),'%')\n",
        "print('Rejected coupon:',Y_counts[0],round(Y_counts[0]/df.shape[0]*100,2),'%')"
      ],
      "metadata": {
        "colab": {
          "base_uri": "https://localhost:8080/",
          "height": 321
        },
        "id": "RkOtrpClcK1C",
        "outputId": "8dd551b6-66ec-490d-9904-80a5661ed2ce"
      },
      "execution_count": 10,
      "outputs": [
        {
          "output_type": "stream",
          "name": "stdout",
          "text": [
            "Accepted coupon: 7157 56.76 %\n",
            "Rejected coupon: 5453 43.24 %\n"
          ]
        },
        {
          "output_type": "display_data",
          "data": {
            "text/plain": [
              "<Figure size 576x288 with 1 Axes>"
            ],
            "image/png": "[encoded data removed]"
          },
          "metadata": {}
        }
      ]
    },
    {
      "cell_type": "code",
      "source": [
        "# univariate (coupon & Y)\n",
        "df_coupon = df[['coupon','Y']]\n",
        "cross_tab = pd.crosstab(index=df_coupon['coupon'],\n",
        "                        columns=df_coupon['Y'])\n",
        "cross_tab_prop = pd.crosstab(index=df_coupon['coupon'],\n",
        "                             columns=df_coupon['Y'],\n",
        "                             normalize=\"index\")\n",
        "cross_tab_prop.plot(kind='barh', \n",
        "                        stacked=True, \n",
        "                        colormap='tab20c', \n",
        "                        figsize=(10, 6))\n",
        "\n",
        "plt.legend(loc=\"lower left\", ncol=2)\n",
        "plt.ylabel(\"coupon\")\n",
        "plt.xlabel(\"Proportion\")\n",
        "\n",
        "\n",
        "for n, x in enumerate([*cross_tab.index.values]):\n",
        "    for (proportion, count, y_loc) in zip(cross_tab_prop.loc[x],\n",
        "                                          cross_tab.loc[x],\n",
        "                                          cross_tab_prop.loc[x].cumsum()):\n",
        "                \n",
        "        plt.text(x=(y_loc - proportion) + (proportion / 2),\n",
        "                 y=n - 0.11,\n",
        "                 s=f'{count}\\n({np.round(proportion * 100, 1)}%)', \n",
        "                 color=\"black\",\n",
        "                 fontsize=12,\n",
        "                 fontweight=\"bold\")\n",
        "\n",
        "plt.show()"
      ],
      "metadata": {
        "colab": {
          "base_uri": "https://localhost:8080/",
          "height": 394
        },
        "id": "CW3ZBhnFD9jz",
        "outputId": "5d44fd56-a850-47da-8df0-fed555306098"
      },
      "execution_count": 11,
      "outputs": [
        {
          "output_type": "display_data",
          "data": {
            "text/plain": [
              "<Figure size 720x432 with 1 Axes>"
            ],
            "image/png": "[encoded data removed]"
          },
          "metadata": {}
        }
      ]
    },
    {
      "cell_type": "code",
      "source": [
        "# Univeriate(education & Y)\n",
        "df_edu = df[['education','Y']]\n",
        "cross_tab = pd.crosstab(index=df_edu['education'],\n",
        "                        columns=df_edu['Y'])\n",
        "cross_tab_prop = pd.crosstab(index=df_edu['education'],\n",
        "                             columns=df_edu['Y'],\n",
        "                             normalize=\"index\")\n",
        "cross_tab_prop.plot(kind='barh', \n",
        "                        stacked=True, \n",
        "                        colormap='tab20c', \n",
        "                        figsize=(10, 6))\n",
        "\n",
        "plt.legend(loc=\"lower left\", ncol=2)\n",
        "plt.ylabel(\"coupon\")\n",
        "plt.xlabel(\"Proportion\")\n",
        "\n",
        "\n",
        "for n, x in enumerate([*cross_tab.index.values]):\n",
        "    for (proportion, count, y_loc) in zip(cross_tab_prop.loc[x],\n",
        "                                          cross_tab.loc[x],\n",
        "                                          cross_tab_prop.loc[x].cumsum()):\n",
        "                \n",
        "        plt.text(x=(y_loc - proportion) + (proportion / 2),\n",
        "                 y=n - 0.11,\n",
        "                 s=f'{count}\\n({np.round(proportion * 100, 1)}%)', \n",
        "                 color=\"black\",\n",
        "                 fontsize=12,\n",
        "                 fontweight=\"bold\")\n",
        "\n",
        "plt.show()"
      ],
      "metadata": {
        "id": "mgBX7GH08VPL",
        "colab": {
          "base_uri": "https://localhost:8080/",
          "height": 394
        },
        "outputId": "8e5d1b76-d789-487d-e188-ae3c29358724"
      },
      "execution_count": 12,
      "outputs": [
        {
          "output_type": "display_data",
          "data": {
            "text/plain": [
              "<Figure size 720x432 with 1 Axes>"
            ],
            "image/png": "[encoded data removed]"
          },
          "metadata": {}
        }
      ]
    },
    {
      "cell_type": "code",
      "source": [
        "def univariate_analysis(column_name):\n",
        "    df_EDA = pd.DataFrame(sorted(list(df[column_name].unique())),columns=[column_name])\n",
        "    df_EDA['Total_Count'] = list(df.groupby(column_name).Y.count())\n",
        "    df_EDA['Accepted'] = list(df[df.Y==1].groupby(column_name).Y.count())\n",
        "    df_EDA['Rejected'] = list(df[df.Y==0].groupby(column_name).Y.count())\n",
        "    df_EDA['%Accepted'] = round(df_EDA['Accepted']/df_EDA['Total_Count']*100,3)\n",
        "    df_EDA['%Rejected'] = round(df_EDA['Rejected']/df_EDA['Total_Count']*100,3)\n",
        "    df_EDA = df_EDA.sort_values(by='Total_Count', ascending=False)\n",
        "    \n",
        "    fig,ax = plt.subplots(figsize =(8, 4))\n",
        "    plt.bar(df_EDA[column_name],df_EDA['Total_Count'])\n",
        "    plt.bar(df_EDA[column_name],df_EDA['Accepted'])\n",
        "    plt.legend(labels=['Total','Accepted'])\n",
        "    plt.xlabel('Counts')\n",
        "    plt.title(column_name+' wise accepted coupons')\n",
        "\n",
        "univariate_analysis('weather')\n",
        "univariate_analysis('expiration')"
      ],
      "metadata": {
        "colab": {
          "base_uri": "https://localhost:8080/",
          "height": 585
        },
        "id": "_jQg9z8vyZ3e",
        "outputId": "723055f4-19af-4ec7-8827-20fe91381b2d"
      },
      "execution_count": 13,
      "outputs": [
        {
          "output_type": "display_data",
          "data": {
            "text/plain": [
              "<Figure size 576x288 with 1 Axes>"
            ],
            "image/png": "[encoded data removed]"
          },
          "metadata": {}
        },
        {
          "output_type": "display_data",
          "data": {
            "text/plain": [
              "<Figure size 576x288 with 1 Axes>"
            ],
            "image/png": "[encoded data removed]"
          },
          "metadata": {}
        }
      ]
    },
    {
      "cell_type": "code",
      "source": [
        "#Bivariate Analysis(time & coupon & Y)\n",
        "df_time_coupon = df[[\"time\",\"coupon\",\"Y\"]]\n",
        "\n",
        "df_reje = df_time_coupon.loc[df_time_coupon['Y'] == 0]\n",
        "df_acce = df_time_coupon.loc[df_time_coupon['Y'] == 1]\n"
      ],
      "metadata": {
        "id": "hP_66uzdHUZB"
      },
      "execution_count": 14,
      "outputs": []
    },
    {
      "cell_type": "code",
      "source": [
        "sns.set(rc={\"figure.figsize\":(10,5)})\n",
        "sns.countplot(data=df_reje, x='time', hue='coupon' ).set(title='Rejection')\n",
        "plt.show()"
      ],
      "metadata": {
        "colab": {
          "base_uri": "https://localhost:8080/",
          "height": 355
        },
        "id": "1kEOGRN-QDll",
        "outputId": "ada1ba09-6e8a-45ad-a958-9b5758b7fffa"
      },
      "execution_count": 15,
      "outputs": [
        {
          "output_type": "display_data",
          "data": {
            "text/plain": [
              "<Figure size 720x360 with 1 Axes>"
            ],
            "image/png": "[encoded data removed]"
          },
          "metadata": {}
        }
      ]
    },
    {
      "cell_type": "code",
      "source": [
        "sns.set(rc={\"figure.figsize\":(10,5)})\n",
        "sns.countplot(data=df_acce, x='time', hue='coupon').set(title='Acception')\n",
        "plt.show()"
      ],
      "metadata": {
        "colab": {
          "base_uri": "https://localhost:8080/",
          "height": 355
        },
        "id": "AEEaZ3yDWyg8",
        "outputId": "2ecca79d-502f-4a71-93df-f92f9ddfd946"
      },
      "execution_count": 16,
      "outputs": [
        {
          "output_type": "display_data",
          "data": {
            "text/plain": [
              "<Figure size 720x360 with 1 Axes>"
            ],
            "image/png": "[encoded data removed]"
          },
          "metadata": {}
        }
      ]
    },
    {
      "cell_type": "markdown",
      "source": [
        "Feature Transformation:"
      ],
      "metadata": {
        "id": "4PrKvPP2bkAL"
      }
    },
    {
      "cell_type": "code",
      "source": [
        "# combine \"toCoupon_GEQ5min\",\"toCoupon_GEQ15min\" and \"toCoupon_GEQ25min\" into one column\n",
        "def custom_where(ele):\n",
        "  x,y,z = list(map(str,ele))\n",
        "  if x == '1':\n",
        "    if y == '1':\n",
        "      if z == '1':\n",
        "        return 'within 25mins'\n",
        "      else:\n",
        "        return 'within 15mins'\n",
        "    else: return 'within 5mins'"
      ],
      "metadata": {
        "id": "rQDlngjFhtnr"
      },
      "execution_count": 17,
      "outputs": []
    },
    {
      "cell_type": "code",
      "source": [
        "df['driving_distance'] = df[['toCoupon_GEQ5min','toCoupon_GEQ15min','toCoupon_GEQ25min']].apply(custom_where,axis=1,raw=True)\n",
        "df.drop(['toCoupon_GEQ5min','toCoupon_GEQ15min','toCoupon_GEQ25min'],axis=1,inplace=True)"
      ],
      "metadata": {
        "id": "WQ2Afpi4hxPq"
      },
      "execution_count": 18,
      "outputs": []
    },
    {
      "cell_type": "code",
      "source": [
        "#categorize it to be more simple\n",
        "age_list = []\n",
        "for i in df['age']:\n",
        "    if i == 'below21':\n",
        "        age = '<21'\n",
        "    elif i == '21' or i == '26':\n",
        "        age = '21-30'\n",
        "    elif i == '31' or i == '36':\n",
        "        age = '31-40'\n",
        "    elif i == '41' or i == '46':\n",
        "        age = '41-50'\n",
        "    else:\n",
        "        age = '>50'\n",
        "    age_list.append(age)\n",
        "df['age'] = age_list"
      ],
      "metadata": {
        "id": "1UVJZguAkFhp"
      },
      "execution_count": 19,
      "outputs": []
    },
    {
      "cell_type": "code",
      "source": [
        "df['age'].unique()"
      ],
      "metadata": {
        "colab": {
          "base_uri": "https://localhost:8080/"
        },
        "id": "baJr4FUxkb6C",
        "outputId": "2b2f2841-3a36-4910-86af-d516055819f8"
      },
      "execution_count": 20,
      "outputs": [
        {
          "output_type": "execute_result",
          "data": {
            "text/plain": [
              "array(['21-30', '41-50', '31-40', '>50', '<21'], dtype=object)"
            ]
          },
          "metadata": {},
          "execution_count": 20
        }
      ]
    },
    {
      "cell_type": "code",
      "source": [
        "#categorize it to be more simple\n",
        "occupation_list = []\n",
        "for i in df['occupation']:\n",
        "    if i == 'Installation Maintenance & Repair' or i == 'Transportation & Material Moving' or i == 'Food Preparation & Serving Related' or i == 'Building & Grounds Cleaning & Maintenance':\n",
        "        occupation = 'Crafts'\n",
        "    elif i == 'Architecture & Engineering' or i == 'Education&Training&Library' or i == 'Healthcare Practitioners & Technical' or i == 'Management' or i == 'Arts Design Entertainment Sports & Media' or i == 'Computer & Mathematical' or i == 'Legal' or i == 'Business & Financial':\n",
        "        occupation = 'Professionals'\n",
        "    elif i == 'Retired':\n",
        "        occupation = 'Retired'\n",
        "    elif i == 'Sales & Related' or i == 'Personal Care & Service' or i == 'Protective Service':\n",
        "        occupation = 'Service and sales'\n",
        "    elif i == 'Student':\n",
        "        occupation = 'Student'\n",
        "    elif i == 'Healthcare Support' or i == 'Life Physical Social Science' or i == 'Community & Social Services' or i == 'Construction & Extraction':\n",
        "        occupation = 'Technicians'\n",
        "    elif i == 'Unemployed':\n",
        "        occupation = 'Unemployed'\n",
        "    else:\n",
        "        occupation = 'Others'\n",
        "    occupation_list.append(occupation)\n",
        "df['occupation'] = occupation_list"
      ],
      "metadata": {
        "id": "PGFSD_g9lQob"
      },
      "execution_count": 21,
      "outputs": []
    },
    {
      "cell_type": "code",
      "source": [
        "df['occupation'].unique()"
      ],
      "metadata": {
        "colab": {
          "base_uri": "https://localhost:8080/"
        },
        "id": "7g1pdwfElbG5",
        "outputId": "f0df55bf-5d79-44d9-e312-bc648a8f41d8"
      },
      "execution_count": 22,
      "outputs": [
        {
          "output_type": "execute_result",
          "data": {
            "text/plain": [
              "array(['Unemployed', 'Professionals', 'Student', 'Technicians',\n",
              "       'Service and sales', 'Others', 'Retired', 'Crafts'], dtype=object)"
            ]
          },
          "metadata": {},
          "execution_count": 22
        }
      ]
    },
    {
      "cell_type": "code",
      "source": [
        "has_children_list = []\n",
        "for i in df['has_children']:\n",
        "    if i == 1:\n",
        "        has_children = 'Yes'\n",
        "    else:\n",
        "      has_children = 'No'\n",
        "    has_children_list.append(has_children)\n",
        "df['has_children'] = has_children_list"
      ],
      "metadata": {
        "id": "STo6vnl1mVfm"
      },
      "execution_count": 23,
      "outputs": []
    },
    {
      "cell_type": "code",
      "source": [
        "df['has_children'].unique()"
      ],
      "metadata": {
        "colab": {
          "base_uri": "https://localhost:8080/"
        },
        "id": "7CWpyqONqSQv",
        "outputId": "e00b5590-3955-4db1-8570-08234f33b2ef"
      },
      "execution_count": 24,
      "outputs": [
        {
          "output_type": "execute_result",
          "data": {
            "text/plain": [
              "array(['Yes', 'No'], dtype=object)"
            ]
          },
          "metadata": {},
          "execution_count": 24
        }
      ]
    },
    {
      "cell_type": "code",
      "source": [
        "temperature_list = []\n",
        "for i in df['temperature']:\n",
        "    if i == 30:\n",
        "      temperature = 'Low'\n",
        "    elif i==55:\n",
        "      temperature= 'Medium'\n",
        "    else:\n",
        "      temperature = 'High'\n",
        "    temperature_list.append(temperature)\n",
        "df['temperature'] = temperature_list "
      ],
      "metadata": {
        "id": "Nat7iSFAqVrO"
      },
      "execution_count": 25,
      "outputs": []
    },
    {
      "cell_type": "code",
      "source": [
        "direction_same_list = []\n",
        "for i in df['direction_same']:\n",
        "    if i == 1:\n",
        "      direction_same = 'Yes'\n",
        "    else:\n",
        "      direction_same = 'No'\n",
        "    direction_same_list.append(direction_same)\n",
        "df['direction_same'] = direction_same_list"
      ],
      "metadata": {
        "id": "Yv-LnV7ysbdK"
      },
      "execution_count": 26,
      "outputs": []
    },
    {
      "cell_type": "code",
      "source": [
        "Y_list = []\n",
        "for i in df['Y']:\n",
        "    if i == 1:\n",
        "      Y = 'Accept'\n",
        "    else:\n",
        "      Y = 'Reject'\n",
        "    Y_list.append(Y)\n",
        "df['Y'] = Y_list"
      ],
      "metadata": {
        "id": "rRWEIgEEs0Vr"
      },
      "execution_count": 27,
      "outputs": []
    },
    {
      "cell_type": "code",
      "source": [
        "df['Y'].unique()"
      ],
      "metadata": {
        "colab": {
          "base_uri": "https://localhost:8080/"
        },
        "id": "7G0Mj3aDtD_x",
        "outputId": "dc00668d-1d35-47ea-a845-83165d484564"
      },
      "execution_count": 28,
      "outputs": [
        {
          "output_type": "execute_result",
          "data": {
            "text/plain": [
              "array(['Accept', 'Reject'], dtype=object)"
            ]
          },
          "metadata": {},
          "execution_count": 28
        }
      ]
    },
    {
      "cell_type": "markdown",
      "source": [
        "Data Encoding"
      ],
      "metadata": {
        "id": "Z0E2DKsckikH"
      }
    },
    {
      "cell_type": "code",
      "source": [
        "df_enco = df.copy()\n",
        "label_encoder = preprocessing.LabelEncoder()\n",
        "df_enco['passanger']= label_encoder.fit_transform(df_enco['passanger'])\n",
        "df_enco['weather']= label_encoder.fit_transform(df_enco['weather'])\n",
        "df_enco['time']= label_encoder.fit_transform(df_enco['time'])\n",
        "df_enco['coupon']= label_encoder.fit_transform(df_enco['coupon'])\n",
        "df_enco['expiration']= label_encoder.fit_transform(df_enco['expiration'])\n",
        "df_enco['gender']= label_encoder.fit_transform(df_enco['gender'])\n",
        "df_enco['age']= label_encoder.fit_transform(df_enco['age'])\n",
        "df_enco['maritalStatus']= label_encoder.fit_transform(df_enco['maritalStatus'])\n",
        "df_enco['education']= label_encoder.fit_transform(df_enco['education'])\n",
        "df_enco['occupation']= label_encoder.fit_transform(df_enco['occupation'])\n",
        "df_enco['income']= label_encoder.fit_transform(df_enco['income'])\n",
        "df_enco['Bar']= label_encoder.fit_transform(df_enco['Bar'])\n",
        "df_enco['CoffeeHouse']= label_encoder.fit_transform(df_enco['CoffeeHouse'])\n",
        "df_enco['CarryAway']= label_encoder.fit_transform(df_enco['CarryAway'])\n",
        "df_enco['RestaurantLessThan20']= label_encoder.fit_transform(df_enco['RestaurantLessThan20'])\n",
        "df_enco['Restaurant20To50']= label_encoder.fit_transform(df_enco['Restaurant20To50'])\n",
        "df_enco['driving_distance']= label_encoder.fit_transform(df_enco['driving_distance'])\n",
        "df_enco['temperature']= label_encoder.fit_transform(df_enco['temperature'])\n",
        "df_enco['has_children']= label_encoder.fit_transform(df_enco['has_children'])\n",
        "df_enco['direction_same']= label_encoder.fit_transform(df_enco['direction_same'])\n",
        "df_enco['destination']= label_encoder.fit_transform(df_enco['destination'])\n",
        "df_enco['Y']= label_encoder.fit_transform(df_enco['Y'])"
      ],
      "metadata": {
        "id": "wvA8SPxokk6L"
      },
      "execution_count": 29,
      "outputs": []
    },
    {
      "cell_type": "markdown",
      "source": [
        "Feature Selection"
      ],
      "metadata": {
        "id": "SQglDUnKjvKI"
      }
    },
    {
      "cell_type": "code",
      "source": [
        "X = df_enco.drop('Y',axis=1)\n",
        "y = df_enco['Y']\n",
        "chi_scores = chi2(X,y)\n",
        "print(chi_scores)\n",
        "p_values = pd.Series(chi_scores[1],index = X.columns)\n",
        "p_values.sort_values(ascending = False , inplace = True)\n",
        "plt.figure(figsize=(16,6))\n",
        "p_values.plot.bar()"
      ],
      "metadata": {
        "colab": {
          "base_uri": "https://localhost:8080/",
          "height": 707
        },
        "id": "hBAAoHXnhJwA",
        "outputId": "6383cf50-1a35-4487-d01f-4f334a8670d7"
      },
      "execution_count": 30,
      "outputs": [
        {
          "output_type": "stream",
          "name": "stdout",
          "text": [
            "(array([8.51872185e-02, 4.49153726e+01, 2.80958257e+01, 4.15522212e+01,\n",
            "       2.79059310e+01, 1.09915816e+02, 1.16527040e+02, 1.23766588e+01,\n",
            "       4.06618193e+01, 3.27933140e+00, 1.49879269e+01, 3.22563112e+01,\n",
            "       2.95063861e-01, 1.39837347e+01, 6.71770851e+01, 2.97944201e+02,\n",
            "       3.40513002e+01, 2.24323428e+00, 3.98201425e+01, 2.20550210e+00,\n",
            "       6.06000274e-01, 2.85147148e+01]), array([7.70387172e-01, 2.05736369e-11, 1.15454615e-07, 1.14764019e-10,\n",
            "       1.27358779e-07, 1.02241869e-25, 3.64377189e-27, 4.34734409e-04,\n",
            "       1.80989197e-10, 7.01575045e-02, 1.08201215e-04, 1.35117495e-08,\n",
            "       5.86993614e-01, 1.84398961e-04, 2.48182102e-16, 9.23986896e-67,\n",
            "       5.36780295e-09, 1.34200019e-01, 2.78458532e-10, 1.37519112e-01,\n",
            "       4.36297765e-01, 9.29890840e-08]))\n"
          ]
        },
        {
          "output_type": "execute_result",
          "data": {
            "text/plain": [
              "<matplotlib.axes._subplots.AxesSubplot at 0x7f97136b7c70>"
            ]
          },
          "metadata": {},
          "execution_count": 30
        },
        {
          "output_type": "display_data",
          "data": {
            "text/plain": [
              "<Figure size 1152x432 with 1 Axes>"
            ],
            "image/png": "[encoded data removed]"
          },
          "metadata": {}
        }
      ]
    },
    {
      "cell_type": "code",
      "source": [
        "df_enco = df_enco.drop(columns=['destination'])\n",
        "df_enco=df_enco.drop(columns=['direction_opp'])"
      ],
      "metadata": {
        "id": "ZBCY4tDFiALk"
      },
      "execution_count": 31,
      "outputs": []
    },
    {
      "cell_type": "code",
      "source": [
        "df_enco.info()"
      ],
      "metadata": {
        "colab": {
          "base_uri": "https://localhost:8080/"
        },
        "id": "mxmz7kcw7-OO",
        "outputId": "1b7727c6-811c-4b43-a128-f42207c78dd2"
      },
      "execution_count": 32,
      "outputs": [
        {
          "output_type": "stream",
          "name": "stdout",
          "text": [
            "<class 'pandas.core.frame.DataFrame'>\n",
            "Int64Index: 12610 entries, 0 to 12683\n",
            "Data columns (total 21 columns):\n",
            " #   Column                Non-Null Count  Dtype\n",
            "---  ------                --------------  -----\n",
            " 0   passanger             12610 non-null  int64\n",
            " 1   weather               12610 non-null  int64\n",
            " 2   temperature           12610 non-null  int64\n",
            " 3   time                  12610 non-null  int64\n",
            " 4   coupon                12610 non-null  int64\n",
            " 5   expiration            12610 non-null  int64\n",
            " 6   gender                12610 non-null  int64\n",
            " 7   age                   12610 non-null  int64\n",
            " 8   maritalStatus         12610 non-null  int64\n",
            " 9   has_children          12610 non-null  int64\n",
            " 10  education             12610 non-null  int64\n",
            " 11  occupation            12610 non-null  int64\n",
            " 12  income                12610 non-null  int64\n",
            " 13  Bar                   12610 non-null  int64\n",
            " 14  CoffeeHouse           12610 non-null  int64\n",
            " 15  CarryAway             12610 non-null  int64\n",
            " 16  RestaurantLessThan20  12610 non-null  int64\n",
            " 17  Restaurant20To50      12610 non-null  int64\n",
            " 18  direction_same        12610 non-null  int64\n",
            " 19  Y                     12610 non-null  int64\n",
            " 20  driving_distance      12610 non-null  int64\n",
            "dtypes: int64(21)\n",
            "memory usage: 2.4 MB\n"
          ]
        }
      ]
    },
    {
      "cell_type": "code",
      "source": [
        "df = df.drop(columns=['destination'])\n",
        "df = df.drop(columns=['direction_opp'])\n",
        " #drop direction_opp(highly correlated with direction_same)"
      ],
      "metadata": {
        "id": "7SbvRwz6mG9f"
      },
      "execution_count": 33,
      "outputs": []
    },
    {
      "cell_type": "markdown",
      "source": [
        "# ML Algorithm\n",
        "\n",
        "\n",
        "*   Naive Bayes \n",
        "*   Decision Tree \n",
        "*   Nerual Network\n",
        "\n"
      ],
      "metadata": {
        "id": "tzZTGePA6DH7"
      }
    },
    {
      "cell_type": "markdown",
      "source": [
        "Naive Bayes "
      ],
      "metadata": {
        "id": "nigeZ5oAQeCt"
      }
    },
    {
      "cell_type": "code",
      "source": [
        "df_NB = df.copy()"
      ],
      "metadata": {
        "id": "W7qKseiQOXne"
      },
      "execution_count": 34,
      "outputs": []
    },
    {
      "cell_type": "code",
      "source": [
        "X_NB=df_NB.drop('Y',axis=1)\n",
        "y_NB=df_NB['Y']"
      ],
      "metadata": {
        "id": "Z_0IuTh-zGbD"
      },
      "execution_count": 35,
      "outputs": []
    },
    {
      "cell_type": "code",
      "source": [
        "def accuracy_score(y_true, y_pred):\n",
        "\n",
        "\t\"\"\"\tscore = (y_true - y_pred) / len(y_true) \"\"\"\n",
        "\n",
        "\treturn round(float(sum(y_pred == y_true))/float(len(y_true)) * 100 ,2)\n",
        "\n",
        "\n",
        "\n",
        "class  NaiveBayes:\n",
        "\n",
        "\t\"\"\"\n",
        "\t\tBayes Theorem:\n",
        "\t\t\t\t\t\t\t\t\t\tLikelihood * Class prior probability\n",
        "\t\t\t\tPosterior Probability = -------------------------------------\n",
        "\t\t\t\t\t\t\t\t\t\t\tPredictor prior probability\n",
        "\t\t\t\t\n",
        "\t\t\t\t\t\t\t  \t\t\t P(x|c) * p(c)\n",
        "\t\t\t\t\t\t\t   P(c|x) = ------------------ \n",
        "\t\t\t\t\t\t\t\t\t\t\t  P(x)\n",
        "\t\"\"\"\n",
        "\n",
        "\tdef __init__(self):\n",
        "\n",
        "\t\t\"\"\"\n",
        "\t\t\tAttributes:\n",
        "\t\t\t\tlikelihoods: Likelihood of each feature per class\n",
        "\t\t\t\tclass_priors: Prior probabilities of classes \n",
        "\t\t\t\tpred_priors: Prior probabilities of features \n",
        "\t\t\t\tfeatures: All features of dataset\n",
        "\t\t\"\"\"\n",
        "\t\tself.features = list\n",
        "\t\tself.likelihoods = {}\n",
        "\t\tself.class_priors = {}\n",
        "\t\tself.pred_priors = {}\n",
        "\n",
        "\t\tself.X_train = np.array\n",
        "\t\tself.y_train = np.array\n",
        "\t\tself.train_size = int\n",
        "\t\tself.num_feats = int\n",
        "\n",
        "\tdef fit(self, X, y):\n",
        "\n",
        "\t\tself.features = list(X.columns)\n",
        "\t\tself.X_train = X\n",
        "\t\tself.y_train = y\n",
        "\t\tself.train_size = X.shape[0]\n",
        "\t\tself.num_feats = X.shape[1]\n",
        "\n",
        "\t\tfor feature in self.features:\n",
        "\t\t\tself.likelihoods[feature] = {}\n",
        "\t\t\tself.pred_priors[feature] = {}\n",
        "\n",
        "\t\t\tfor feat_val in np.unique(self.X_train[feature]):\n",
        "\t\t\t\tself.pred_priors[feature].update({feat_val: 0})\n",
        "\n",
        "\t\t\t\tfor outcome in np.unique(self.y_train):\n",
        "\t\t\t\t\tself.likelihoods[feature].update({feat_val+'_'+outcome:0})\n",
        "\t\t\t\t\tself.class_priors.update({outcome: 0})\n",
        "\n",
        "\n",
        "\t\tself._calc_class_prior()\n",
        "\t\tself._calc_likelihoods()\n",
        "\t\tself._calc_predictor_prior()\n",
        "\n",
        "\t\t# print(self.likelihoods)\n",
        "\t\t# print(self.class_priors)\n",
        "\t\t# print(self.pred_priors)\n",
        "\n",
        "\tdef _calc_class_prior(self):\n",
        "\n",
        "\t\t\"\"\" P(c) - Prior Class Probability \"\"\"\n",
        "\n",
        "\t\tfor outcome in np.unique(self.y_train):\n",
        "\t\t\toutcome_count = sum(self.y_train == outcome)\n",
        "\t\t\tself.class_priors[outcome] = outcome_count / self.train_size\n",
        "\n",
        "\tdef _calc_likelihoods(self):\n",
        "\n",
        "\t\t\"\"\" P(x|c) - Likelihood \"\"\"\n",
        "\n",
        "\t\tfor feature in self.features:\n",
        "\n",
        "\t\t\tfor outcome in np.unique(self.y_train):\n",
        "\t\t\t\toutcome_count = sum(self.y_train == outcome)\n",
        "\t\t\t\tfeat_likelihood = self.X_train[feature][self.y_train[self.y_train == outcome].index.values.tolist()].value_counts().to_dict()\n",
        "\n",
        "\t\t\t\tfor feat_val, count in feat_likelihood.items():\n",
        "\t\t\t\t\tself.likelihoods[feature][feat_val + '_' + outcome] = count/outcome_count\n",
        "\n",
        "\n",
        "\tdef _calc_predictor_prior(self):\n",
        "\n",
        "\t\t\"\"\" P(x) - Evidence \"\"\"\n",
        "\n",
        "\t\tfor feature in self.features:\n",
        "\t\t\tfeat_vals = self.X_train[feature].value_counts().to_dict()\n",
        "\n",
        "\t\t\tfor feat_val, count in feat_vals.items():\n",
        "\t\t\t\tself.pred_priors[feature][feat_val] = count/self.train_size\n",
        "\n",
        "\n",
        "\tdef predict(self, X):\n",
        "\n",
        "\t\t\"\"\" Calculates Posterior probability P(c|x) \"\"\"\n",
        "\n",
        "\t\tresults = []\n",
        "\t\tX = np.array(X)\n",
        "\n",
        "\t\tfor query in X:\n",
        "\t\t\tprobs_outcome = {}\n",
        "\t\t\tfor outcome in np.unique(self.y_train):\n",
        "\t\t\t\tprior = self.class_priors[outcome]\n",
        "\t\t\t\tlikelihood = 1\n",
        "\t\t\t\tevidence = 1\n",
        "\n",
        "\t\t\t\tfor feat, feat_val in zip(self.features, query):\n",
        "\t\t\t\t\tlikelihood *= self.likelihoods[feat][feat_val + '_' + outcome]\n",
        "\t\t\t\t\tevidence *= self.pred_priors[feat][feat_val]\n",
        "\n",
        "\t\t\t\tposterior = (likelihood * prior) / (evidence)\n",
        "\n",
        "\t\t\t\tprobs_outcome[outcome] = posterior\n",
        "\n",
        "\t\t\tresult = max(probs_outcome, key = lambda x: probs_outcome[x])\n",
        "\t\t\tresults.append(result)\n",
        "\n",
        "\t\treturn np.array(results)\n"
      ],
      "metadata": {
        "id": "6miGIUzO2Zt7"
      },
      "execution_count": 36,
      "outputs": []
    },
    {
      "cell_type": "code",
      "source": [
        "X_NB_train, X_NB_test, y_NB_train, y_NB_test = train_test_split(X_NB , y_NB,\n",
        "                                                                shuffle = True,\n",
        "                                                                test_size=0.25, \n",
        "                                                                random_state=1)\n",
        "\n",
        "print('X_train:', X_NB_train.shape)\n",
        "print('X_test:', X_NB_test.shape)"
      ],
      "metadata": {
        "colab": {
          "base_uri": "https://localhost:8080/"
        },
        "id": "puHcV1D9z8eP",
        "outputId": "4683d4cc-80f8-44bf-c809-b497a1c8d02a"
      },
      "execution_count": 37,
      "outputs": [
        {
          "output_type": "stream",
          "name": "stdout",
          "text": [
            "X_train: (9457, 20)\n",
            "X_test: (3153, 20)\n"
          ]
        }
      ]
    },
    {
      "cell_type": "code",
      "source": [
        "import timeit\n",
        "\n",
        "start = timeit.default_timer()"
      ],
      "metadata": {
        "id": "0cwsMrWtxmc3"
      },
      "execution_count": 38,
      "outputs": []
    },
    {
      "cell_type": "code",
      "source": [
        "nb_clf = NaiveBayes()\n",
        "nb_clf.fit(X_NB_train, y_NB_train)\n"
      ],
      "metadata": {
        "id": "aLkweGhatOBY"
      },
      "execution_count": 39,
      "outputs": []
    },
    {
      "cell_type": "code",
      "source": [
        "stop = timeit.default_timer()\n",
        "\n",
        "print('Time: ', stop - start)  "
      ],
      "metadata": {
        "colab": {
          "base_uri": "https://localhost:8080/"
        },
        "id": "yuygZeYsxrXN",
        "outputId": "fb703a3c-b00e-4956-a80c-ffc85cff01a7"
      },
      "execution_count": 40,
      "outputs": [
        {
          "output_type": "stream",
          "name": "stdout",
          "text": [
            "Time:  0.8714426280000112\n"
          ]
        }
      ]
    },
    {
      "cell_type": "code",
      "source": [
        "print(\"Train Accuracy: {}\".format(accuracy_score(y_NB_train, nb_clf.predict(X_NB_train))))\n",
        "print(\"Test Accuracy: {}\".format(accuracy_score(y_NB_test, nb_clf.predict(X_NB_test))))"
      ],
      "metadata": {
        "colab": {
          "base_uri": "https://localhost:8080/"
        },
        "id": "lwjL_VQSwxXe",
        "outputId": "4d7b8988-0a98-4e22-d7c1-079eca4a1fb4"
      },
      "execution_count": 41,
      "outputs": [
        {
          "output_type": "stream",
          "name": "stdout",
          "text": [
            "Train Accuracy: 66.98\n",
            "Test Accuracy: 66.57\n"
          ]
        }
      ]
    },
    {
      "cell_type": "code",
      "source": [
        "y_NB_pred=nb_clf.predict(X_NB_test)\n",
        "confusion = confusion_matrix(y_NB_test, y_NB_pred)\n",
        "print('Confusion Matrix\\n')\n",
        "print(confusion)"
      ],
      "metadata": {
        "colab": {
          "base_uri": "https://localhost:8080/"
        },
        "id": "Uuns_Nr33hbp",
        "outputId": "ba681b8f-1629-4d81-b66d-cf922f04ec27"
      },
      "execution_count": 42,
      "outputs": [
        {
          "output_type": "stream",
          "name": "stdout",
          "text": [
            "Confusion Matrix\n",
            "\n",
            "[[1355  447]\n",
            " [ 607  744]]\n"
          ]
        }
      ]
    },
    {
      "cell_type": "code",
      "source": [
        "print('\\nAccuracy: {:.2f}'.format(accuracy_score(y_NB_test, y_NB_pred)))\n",
        "print('Precision : {:.2f}'.format(precision_score(y_NB_test, y_NB_pred, pos_label='Accept', average='binary')))\n",
        "print('Recal : {:.2f}'.format(recall_score(y_NB_test, y_NB_pred, pos_label='Accept', average='binary')))\n",
        "print('F1 Score : {:.2f}'.format(f1_score(y_NB_test, y_NB_pred, pos_label='Accept', average='binary')))\n"
      ],
      "metadata": {
        "colab": {
          "base_uri": "https://localhost:8080/"
        },
        "id": "M1h_t7Vb90q8",
        "outputId": "12de7a64-9398-4aff-bbec-318b2b949ec2"
      },
      "execution_count": 43,
      "outputs": [
        {
          "output_type": "stream",
          "name": "stdout",
          "text": [
            "\n",
            "Accuracy: 66.57\n",
            "Precision : 0.69\n",
            "Recal : 0.75\n",
            "F1 Score : 0.72\n"
          ]
        }
      ]
    },
    {
      "cell_type": "code",
      "source": [
        "print('\\nNaive Bayes Classification Report\\n')\n",
        "print(classification_report(y_NB_test, y_NB_pred))"
      ],
      "metadata": {
        "colab": {
          "base_uri": "https://localhost:8080/"
        },
        "id": "wlsCpviVAEZ3",
        "outputId": "812b1079-d00c-4909-e0fa-2ded22d0a7fd"
      },
      "execution_count": 44,
      "outputs": [
        {
          "output_type": "stream",
          "name": "stdout",
          "text": [
            "\n",
            "Naive Bayes Classification Report\n",
            "\n",
            "              precision    recall  f1-score   support\n",
            "\n",
            "      Accept       0.69      0.75      0.72      1802\n",
            "      Reject       0.62      0.55      0.59      1351\n",
            "\n",
            "    accuracy                           0.67      3153\n",
            "   macro avg       0.66      0.65      0.65      3153\n",
            "weighted avg       0.66      0.67      0.66      3153\n",
            "\n"
          ]
        }
      ]
    },
    {
      "cell_type": "markdown",
      "source": [
        "Decision Tree "
      ],
      "metadata": {
        "id": "fwJoFsAKQtf_"
      }
    },
    {
      "cell_type": "code",
      "source": [
        "df_DT = df_enco.copy()"
      ],
      "metadata": {
        "id": "90fz23LmQx89"
      },
      "execution_count": 45,
      "outputs": []
    },
    {
      "cell_type": "code",
      "source": [
        "X_DT = df_DT.drop('Y',axis=1)\n",
        "y_DT = df_DT['Y']"
      ],
      "metadata": {
        "id": "cDPI1KmKRrc4"
      },
      "execution_count": 46,
      "outputs": []
    },
    {
      "cell_type": "code",
      "source": [
        "eps = np.finfo(float).eps\n",
        "\n",
        "def accuracy_score(y_true, y_pred):\n",
        "\n",
        "\t\"\"\"\tscore = (y_true - y_pred) / len(y_true) \"\"\"\n",
        "\n",
        "\treturn round(float(sum(y_pred == y_true))/float(len(y_true)) * 100 ,2)\n",
        "\n",
        "\n",
        "class DecisionTreeClassifier:\n",
        "\n",
        "\tdef __init__(self, max_depth = None, min_sample_leaf = None):\n",
        "\n",
        "\t\tself.depth = 0 #Depth of the tree\n",
        "\t\tself.max_depth = max_depth\t#Maximum depth of the tree\n",
        "\t\tself.min_sample_leaf = min_sample_leaf\t#Minimum number of samples for each node\n",
        "\n",
        "\t\tself.features = list\n",
        "\t\tself.X_train = np.array\n",
        "\t\tself.y_train = np.array\n",
        "\t\tself.num_feats = int \n",
        "\t\tself.train_size = int \n",
        "\n",
        "\tdef fit(self, X, y):\n",
        "\n",
        "\t\tself.X_train = X \n",
        "\t\tself.y_train = y\n",
        "\t\tself.features = list(X.columns)\n",
        "\t\tself.train_size = X.shape[0]\n",
        "\t\tself.num_feats = X.shape[1]\n",
        "\n",
        "\t\tdf = X.copy()\n",
        "\t\tdf['target'] = y.copy()\n",
        "\n",
        "\t\t#Builds Decision Tree\n",
        "\t\tself.tree = self._build_tree(df)\n",
        "\n",
        "\t\tprint(\"\\nDecision Tree(depth = {}) : \\n {}\".format(self.depth, self.tree))\n",
        "\n",
        "\tdef _build_tree(self, df, tree = None):\n",
        "\n",
        "\t\t\"\"\"\n",
        "\t\t\tArgs:\n",
        "\t\t\t\tdf: current number of rows available for splitting(decision making)\n",
        "\t\t\"\"\"\n",
        "\n",
        "\t\t#Get feature with maximum information gain\n",
        "\t\tfeature, cutoff = self._find_best_split(df)\n",
        "\n",
        "\t\t#Initialization of tree\n",
        "\t\tif tree is None:\n",
        "\t\t\ttree = {}\n",
        "\t\t\ttree[feature] = {}\n",
        "\n",
        "\t\tif df[feature].dtypes == object:\n",
        "\t\t\t\"\"\"\n",
        "\t\t\t\t- to handle columns with Categorical Values(object type)\n",
        " \t\t\t\t- parent have only one child\n",
        "\t\t\t\"\"\"\n",
        "\t\t\tfor feat_val in np.unique(df[feature]):\n",
        "\n",
        "\t\t\t\tnew_df = self._split_rows(df, feature, feat_val, operator.eq)\n",
        "\t\t\t\ttargets, count = np.unique(new_df['target'], return_counts = True)\n",
        "\n",
        "\t\t\t\tif(len(count) == 1): #pure group \n",
        "\t\t\t\t\ttree[feature][feat_val] = targets[0]\n",
        "\t\t\t\telse:\n",
        "\t\t\t\t\tself.depth += 1\n",
        "\t\t\t\t\tif self.max_depth is not None and self.depth >= self.max_depth:\n",
        "\t\t\t\t\t\ttree[feature][feat_val] = targets[np.argmax(count)]\n",
        "\t\t\t\t\telse:\n",
        "\t\t\t\t\t\ttree[feature][feat_val] = self._build_tree(new_df)\n",
        "\t\t\t\t\t\n",
        "\t\telse:\n",
        "\t\t\t\"\"\"\n",
        "\t\t\t\t- to handle columns with Numerical Values(int, float....)\n",
        " \t\t\t\t- parent have two child\n",
        " \t\t\t\t- Left Child: rows with <= cutoff\n",
        " \t\t\t\t- Right Child:  rows with > cutoff\n",
        "\t\t\t\"\"\"\n",
        "\t\t\t#Left Child\n",
        "\t\t\tnew_df = self._split_rows(df, feature, cutoff, operator.le)\n",
        "\t\t\ttargets, count = np.unique(new_df['target'], return_counts = True)\n",
        "\n",
        "\t\t\tself.depth += 1\n",
        "\n",
        "\t\t\tif(len(count) == 1): #pure group\n",
        "\t\t\t\ttree[feature]['<=' + str(cutoff)] = targets[0]\n",
        "\t\t\telse:\n",
        "\t\t\t\tif self.max_depth is not None and self.depth >= self.max_depth:\n",
        "\t\t\t\t\ttree[feature]['<=' + str(cutoff)] = targets[np.argmax(count)]\n",
        "\t\t\t\telse:\n",
        "\t\t\t\t\ttree[feature]['<=' + str(cutoff)] = self._build_tree(new_df)\n",
        "\n",
        "\n",
        "\t\t\t#Right Child\n",
        "\t\t\tnew_df = self._split_rows(df, feature, cutoff, operator.gt)\n",
        "\t\t\ttargets, count = np.unique(new_df['target'], return_counts = True)\n",
        "\n",
        "\t\t\tif(len(count) == 1): #pure group\n",
        "\t\t\t\ttree[feature]['>' + str(cutoff)] = targets[0]\n",
        "\t\t\telse:\n",
        "\t\t\t\tif self.max_depth is not None and self.depth >= self.max_depth:\n",
        "\t\t\t\t\ttree[feature]['>' + str(cutoff)] = targets[np.argmax(count)]\n",
        "\t\t\t\telse:\n",
        "\t\t\t\t\ttree[feature]['>' + str(cutoff)] = self._build_tree(new_df)\n",
        "\n",
        "\t\treturn tree\n",
        "\n",
        "\n",
        "\tdef _split_rows(self, df, feature, feat_val, operation ):\n",
        "\n",
        "\t\t\"\"\" split rows based on given criterion \"\"\"\n",
        "\n",
        "\t\treturn df[operation(df[feature], feat_val)].reset_index(drop = True)\n",
        "\n",
        "\tdef _find_best_split(self, df):\n",
        "\n",
        "\t\t\"\"\"\n",
        "\t\t\tFinds the column to split on first using 'Information Gain' Metric.\n",
        "\t\t\tInformation Gain(IG) = Entropy(parent) - Sum of Entropy(Children)\n",
        "\t\t\t\t\t\tIG(T, a) = H(T) - H(T|a)\n",
        "\t\t\tEntropy(parent) H(T) = (Sum[i=1 to J](- Pi * log(Pi)))\n",
        "\t\t\tSum of Entropy(children) H(T|a) = Sum(P(a) * Sum[i=1 to J](- P(i|a) * log(P(i|a)))\n",
        "\t\t\tReturns:\n",
        "\t\t\t\tFeature With Maximum Information Gain\n",
        "\t\t\"\"\"\n",
        "\n",
        "\t\tig = []\n",
        "\t\tthresholds = []\n",
        "\n",
        "\t\tfor feature in list(df.columns[:-1]):\n",
        "\n",
        "\t\t\tentropy_parent = self._get_entropy(df) #H(T)\n",
        "\t\t\tentropy_feature_split, threshold = self._get_entropy_feature(df, feature) #H(T|a)\n",
        "\n",
        "\t\t\tinfo_gain = entropy_parent - entropy_feature_split #IG(T, a)\n",
        "\n",
        "\t\t\tig.append(info_gain)\n",
        "\t\t\tthresholds.append(threshold)\n",
        "\n",
        "\t\t\n",
        "\t\treturn df.columns[:-1][np.argmax(ig)], thresholds[np.argmax(ig)] #Returns feature with max information gain \n",
        "\n",
        "\tdef _get_entropy(self, df):\n",
        "\n",
        "\t\t\"\"\" Finds Entropy of parent ie., H(T) \"\"\"\n",
        "\n",
        "\t\tentropy = 0\n",
        "\t\tfor target in np.unique(df['target']):\n",
        "\t\t\tfraction = df['target'].value_counts()[target] / len(df['target'])\n",
        "\t\t\tentropy += -fraction * np.log2(fraction)\n",
        "\n",
        "\t\treturn entropy\n",
        "\n",
        "\tdef _get_entropy_feature(self, df, feature):\n",
        "\n",
        "\t\t\"\"\" Finds Sum of entropy of children ie., H(T|a) \"\"\"\n",
        "\n",
        "\t\tentropy = 0\n",
        "\t\tthreshold = None\n",
        "\n",
        "\t\tif(df[feature].dtypes == object):\n",
        "\n",
        "\t\t\t#sum of entropies of children(all distinct features)\n",
        "\t\t\tfor feat_val in np.unique(df[feature]):\n",
        "\t\t\t\tentropy_feature = 0\n",
        "\n",
        "\t\t\t\t#entropy for each distinct feature value\n",
        "\t\t\t\tfor target in np.unique(df['target']):\n",
        "\t\t\t\t\tnum = len(df[feature][df[feature] == feat_val][df['target'] == target])\n",
        "\t\t\t\t\tden = len(df[feature][df[feature] == feat_val])\n",
        "\n",
        "\t\t\t\t\tfraction = num / (den+eps)\n",
        "\t\t\t\t\tentropy_feature += -fraction * np.log2(fraction + eps)\n",
        "\n",
        "\t\t\t\tweightage = den/len(df)\n",
        "\t\t\t\tentropy += weightage * entropy_feature\n",
        "\t\telse:\n",
        "\t\t\tentropy = 1 #Max Value\n",
        "\n",
        "\t\t\tprev = 0\n",
        "\t\t\tfor feat_val in np.unique(df[feature]):\n",
        "\t\t\t\tcur_entropy = 0\n",
        "\t\t\t\tcutoff = (feat_val + prev)/2\n",
        "\n",
        "\t\t\t\t#sum of entropies of left child(<= cutoff) and right child(> cutoff)\n",
        "\t\t\t\tfor operation in [operator.le, operator.gt]:\n",
        "\t\t\t\t\tentropy_feature = 0\n",
        "\n",
        "\t\t\t\t\tfor target in np.unique(df['target']):\n",
        "\t\t\t\t\t\tnum = len(df[feature][operation(df[feature], cutoff)][df['target'] == target])\n",
        "\t\t\t\t\t\tden = len(df[feature][operation(df[feature], cutoff)])\n",
        "\n",
        "\t\t\t\t\t\tfraction = num / (den + eps)\n",
        "\t\t\t\t\t\tentropy_feature += -fraction * np.log2(fraction + eps)\n",
        "\n",
        "\t\t\t\t\tweightage = den/len(df)\n",
        "\t\t\t\t\tcur_entropy += weightage * entropy_feature\n",
        "\n",
        "\t\t\t\tif cur_entropy < entropy:\n",
        "\t\t\t\t\tentropy = cur_entropy\n",
        "\t\t\t\t\tthreshold = cutoff\n",
        "\t\t\t\tprev = feat_val\n",
        "\n",
        "\t\treturn entropy, threshold\n",
        "\n",
        "\tdef _predict_target(self, feature_lookup, x, tree):\n",
        "\n",
        "\t\tfor node in tree.keys():\n",
        "\t\t\tval = x[node]\n",
        "\t\t\tif type(val) == str:\n",
        "\t\t\t\ttree = tree[node][val]\n",
        "\t\t\telse:\n",
        "\t\t\t\tcutoff = str(list(tree[node].keys())[0]).split('<=')[1]\n",
        "\n",
        "\t\t\t\tif(val <= float(cutoff)):\t#Left Child\n",
        "\t\t\t\t\ttree = tree[node]['<='+cutoff]\n",
        "\t\t\t\telse:\t\t\t\t\t\t#Right Child\n",
        "\t\t\t\t\ttree = tree[node]['>'+cutoff]\n",
        "\n",
        "\t\t\tprediction = str\n",
        "\n",
        "\t\t\tif type(tree) is dict:\n",
        "\t\t\t\tprediction = self._predict_target(feature_lookup, x, tree)\n",
        "\t\t\telse:\n",
        "\t\t\t\tpredicton = tree \n",
        "\t\t\t\treturn predicton\n",
        "\n",
        "\t\treturn prediction   \n",
        "\n",
        "\n",
        "\tdef predict(self, X):\n",
        "\n",
        "\t\tresults = []\n",
        "\t\tfeature_lookup = {key: i for i, key in enumerate(list(X.columns))}\n",
        "\t\t\n",
        "\t\tfor index in range(len(X)):\n",
        "\n",
        "\t\t\tresults.append(self._predict_target(feature_lookup, X.iloc[index], self.tree))\n",
        "\n",
        "\t\treturn np.array(results)"
      ],
      "metadata": {
        "id": "qf8g74HWR1RQ"
      },
      "execution_count": 47,
      "outputs": []
    },
    {
      "cell_type": "code",
      "source": [
        "# 12610 learning curve: 0.9 training size = 1261, 0.8 r=2522, 0.7 r=3783, 0.6 r=5044, 0.5 r=6305, 0.4r=7566 ,0.3 r=8827, 0.2 r=10088\n",
        "\n",
        "X_DT_train, X_DT_test, y_DT_train, y_DT_test = train_test_split(X_DT, y_DT, test_size = 0.25, random_state = 0)"
      ],
      "metadata": {
        "id": "fY_6hWKzR32g"
      },
      "execution_count": 48,
      "outputs": []
    },
    {
      "cell_type": "code",
      "source": [
        "X_DT_train.head()"
      ],
      "metadata": {
        "colab": {
          "base_uri": "https://localhost:8080/",
          "height": 270
        },
        "id": "vjxr2gY464ia",
        "outputId": "7c8d8db2-75ff-4c86-9567-59b7bf58bfcf"
      },
      "execution_count": 49,
      "outputs": [
        {
          "output_type": "execute_result",
          "data": {
            "text/plain": [
              "       passanger  weather  temperature  time  coupon  expiration  gender  age  \\\n",
              "5089           0        2            2     3       3           1       1    0   \n",
              "8484           0        2            0     0       2           0       0    4   \n",
              "9813           1        2            0     1       2           0       0    0   \n",
              "7209           0        1            1     3       2           0       0    4   \n",
              "11517          0        1            1     4       0           0       0    3   \n",
              "\n",
              "       maritalStatus  has_children  education  occupation  income  Bar  \\\n",
              "5089               2             0          3           7       2    3   \n",
              "8484               2             0          2           2       3    3   \n",
              "9813               2             0          0           4       2    1   \n",
              "7209               1             1          5           2       3    4   \n",
              "11517              2             0          1           5       1    2   \n",
              "\n",
              "       CoffeeHouse  CarryAway  RestaurantLessThan20  Restaurant20To50  \\\n",
              "5089             0          1                     0                 3   \n",
              "8484             2          0                     0                 0   \n",
              "9813             0          1                     0                 3   \n",
              "7209             0          4                     0                 3   \n",
              "11517            0          3                     1                 2   \n",
              "\n",
              "       direction_same  driving_distance  \n",
              "5089                0                 0  \n",
              "8484                0                 2  \n",
              "9813                0                 0  \n",
              "7209                0                 0  \n",
              "11517               0                 1  "
            ],
            "text/html": [
              "\n",
              "  <div id=\"df-7e457084-fd37-43a8-9065-170145a67d23\">\n",
              "    <div class=\"colab-df-container\">\n",
              "      <div>\n",
              "<style scoped>\n",
              "    .dataframe tbody tr th:only-of-type {\n",
              "        vertical-align: middle;\n",
              "    }\n",
              "\n",
              "    .dataframe tbody tr th {\n",
              "        vertical-align: top;\n",
              "    }\n",
              "\n",
              "    .dataframe thead th {\n",
              "        text-align: right;\n",
              "    }\n",
              "</style>\n",
              "<table border=\"1\" class=\"dataframe\">\n",
              "  <thead>\n",
              "    <tr style=\"text-align: right;\">\n",
              "      <th></th>\n",
              "      <th>passanger</th>\n",
              "      <th>weather</th>\n",
              "      <th>temperature</th>\n",
              "      <th>time</th>\n",
              "      <th>coupon</th>\n",
              "      <th>expiration</th>\n",
              "      <th>gender</th>\n",
              "      <th>age</th>\n",
              "      <th>maritalStatus</th>\n",
              "      <th>has_children</th>\n",
              "      <th>education</th>\n",
              "      <th>occupation</th>\n",
              "      <th>income</th>\n",
              "      <th>Bar</th>\n",
              "      <th>CoffeeHouse</th>\n",
              "      <th>CarryAway</th>\n",
              "      <th>RestaurantLessThan20</th>\n",
              "      <th>Restaurant20To50</th>\n",
              "      <th>direction_same</th>\n",
              "      <th>driving_distance</th>\n",
              "    </tr>\n",
              "  </thead>\n",
              "  <tbody>\n",
              "    <tr>\n",
              "      <th>5089</th>\n",
              "      <td>0</td>\n",
              "      <td>2</td>\n",
              "      <td>2</td>\n",
              "      <td>3</td>\n",
              "      <td>3</td>\n",
              "      <td>1</td>\n",
              "      <td>1</td>\n",
              "      <td>0</td>\n",
              "      <td>2</td>\n",
              "      <td>0</td>\n",
              "      <td>3</td>\n",
              "      <td>7</td>\n",
              "      <td>2</td>\n",
              "      <td>3</td>\n",
              "      <td>0</td>\n",
              "      <td>1</td>\n",
              "      <td>0</td>\n",
              "      <td>3</td>\n",
              "      <td>0</td>\n",
              "      <td>0</td>\n",
              "    </tr>\n",
              "    <tr>\n",
              "      <th>8484</th>\n",
              "      <td>0</td>\n",
              "      <td>2</td>\n",
              "      <td>0</td>\n",
              "      <td>0</td>\n",
              "      <td>2</td>\n",
              "      <td>0</td>\n",
              "      <td>0</td>\n",
              "      <td>4</td>\n",
              "      <td>2</td>\n",
              "      <td>0</td>\n",
              "      <td>2</td>\n",
              "      <td>2</td>\n",
              "      <td>3</td>\n",
              "      <td>3</td>\n",
              "      <td>2</td>\n",
              "      <td>0</td>\n",
              "      <td>0</td>\n",
              "      <td>0</td>\n",
              "      <td>0</td>\n",
              "      <td>2</td>\n",
              "    </tr>\n",
              "    <tr>\n",
              "      <th>9813</th>\n",
              "      <td>1</td>\n",
              "      <td>2</td>\n",
              "      <td>0</td>\n",
              "      <td>1</td>\n",
              "      <td>2</td>\n",
              "      <td>0</td>\n",
              "      <td>0</td>\n",
              "      <td>0</td>\n",
              "      <td>2</td>\n",
              "      <td>0</td>\n",
              "      <td>0</td>\n",
              "      <td>4</td>\n",
              "      <td>2</td>\n",
              "      <td>1</td>\n",
              "      <td>0</td>\n",
              "      <td>1</td>\n",
              "      <td>0</td>\n",
              "      <td>3</td>\n",
              "      <td>0</td>\n",
              "      <td>0</td>\n",
              "    </tr>\n",
              "    <tr>\n",
              "      <th>7209</th>\n",
              "      <td>0</td>\n",
              "      <td>1</td>\n",
              "      <td>1</td>\n",
              "      <td>3</td>\n",
              "      <td>2</td>\n",
              "      <td>0</td>\n",
              "      <td>0</td>\n",
              "      <td>4</td>\n",
              "      <td>1</td>\n",
              "      <td>1</td>\n",
              "      <td>5</td>\n",
              "      <td>2</td>\n",
              "      <td>3</td>\n",
              "      <td>4</td>\n",
              "      <td>0</td>\n",
              "      <td>4</td>\n",
              "      <td>0</td>\n",
              "      <td>3</td>\n",
              "      <td>0</td>\n",
              "      <td>0</td>\n",
              "    </tr>\n",
              "    <tr>\n",
              "      <th>11517</th>\n",
              "      <td>0</td>\n",
              "      <td>1</td>\n",
              "      <td>1</td>\n",
              "      <td>4</td>\n",
              "      <td>0</td>\n",
              "      <td>0</td>\n",
              "      <td>0</td>\n",
              "      <td>3</td>\n",
              "      <td>2</td>\n",
              "      <td>0</td>\n",
              "      <td>1</td>\n",
              "      <td>5</td>\n",
              "      <td>1</td>\n",
              "      <td>2</td>\n",
              "      <td>0</td>\n",
              "      <td>3</td>\n",
              "      <td>1</td>\n",
              "      <td>2</td>\n",
              "      <td>0</td>\n",
              "      <td>1</td>\n",
              "    </tr>\n",
              "  </tbody>\n",
              "</table>\n",
              "</div>\n",
              "      <button class=\"colab-df-convert\" onclick=\"convertToInteractive('df-7e457084-fd37-43a8-9065-170145a67d23')\"\n",
              "              title=\"Convert this dataframe to an interactive table.\"\n",
              "              style=\"display:none;\">\n",
              "        \n",
              "  <svg xmlns=\"http://www.w3.org/2000/svg\" height=\"24px\"viewBox=\"0 0 24 24\"\n",
              "       width=\"24px\">\n",
              "    <path d=\"M0 0h24v24H0V0z\" fill=\"none\"/>\n",
              "    <path d=\"M18.56 5.44l.94 2.06.94-2.06 2.06-.94-2.06-.94-.94-2.06-.94 2.06-2.06.94zm-11 1L8.5 8.5l.94-2.06 2.06-.94-2.06-.94L8.5 2.5l-.94 2.06-2.06.94zm10 10l.94 2.06.94-2.06 2.06-.94-2.06-.94-.94-2.06-.94 2.06-2.06.94z\"/><path d=\"M17.41 7.96l-1.37-1.37c-.4-.4-.92-.59-1.43-.59-.52 0-1.04.2-1.43.59L10.3 9.45l-7.72 7.72c-.78.78-.78 2.05 0 2.83L4 21.41c.39.39.9.59 1.41.59.51 0 1.02-.2 1.41-.59l7.78-7.78 2.81-2.81c.8-.78.8-2.07 0-2.86zM5.41 20L4 18.59l7.72-7.72 1.47 1.35L5.41 20z\"/>\n",
              "  </svg>\n",
              "      </button>\n",
              "      \n",
              "  <style>\n",
              "    .colab-df-container {\n",
              "      display:flex;\n",
              "      flex-wrap:wrap;\n",
              "      gap: 12px;\n",
              "    }\n",
              "\n",
              "    .colab-df-convert {\n",
              "      background-color: #E8F0FE;\n",
              "      border: none;\n",
              "      border-radius: 50%;\n",
              "      cursor: pointer;\n",
              "      display: none;\n",
              "      fill: #1967D2;\n",
              "      height: 32px;\n",
              "      padding: 0 0 0 0;\n",
              "      width: 32px;\n",
              "    }\n",
              "\n",
              "    .colab-df-convert:hover {\n",
              "      background-color: #E2EBFA;\n",
              "      box-shadow: 0px 1px 2px rgba(60, 64, 67, 0.3), 0px 1px 3px 1px rgba(60, 64, 67, 0.15);\n",
              "      fill: #174EA6;\n",
              "    }\n",
              "\n",
              "    [theme=dark] .colab-df-convert {\n",
              "      background-color: #3B4455;\n",
              "      fill: #D2E3FC;\n",
              "    }\n",
              "\n",
              "    [theme=dark] .colab-df-convert:hover {\n",
              "      background-color: #434B5C;\n",
              "      box-shadow: 0px 1px 3px 1px rgba(0, 0, 0, 0.15);\n",
              "      filter: drop-shadow(0px 1px 2px rgba(0, 0, 0, 0.3));\n",
              "      fill: #FFFFFF;\n",
              "    }\n",
              "  </style>\n",
              "\n",
              "      <script>\n",
              "        const buttonEl =\n",
              "          document.querySelector('#df-7e457084-fd37-43a8-9065-170145a67d23 button.colab-df-convert');\n",
              "        buttonEl.style.display =\n",
              "          google.colab.kernel.accessAllowed ? 'block' : 'none';\n",
              "\n",
              "        async function convertToInteractive(key) {\n",
              "          const element = document.querySelector('#df-7e457084-fd37-43a8-9065-170145a67d23');\n",
              "          const dataTable =\n",
              "            await google.colab.kernel.invokeFunction('convertToInteractive',\n",
              "                                                     [key], {});\n",
              "          if (!dataTable) return;\n",
              "\n",
              "          const docLinkHtml = 'Like what you see? Visit the ' +\n",
              "            '<a target=\"_blank\" href=https://colab.research.google.com/notebooks/data_table.ipynb>data table notebook</a>'\n",
              "            + ' to learn more about interactive tables.';\n",
              "          element.innerHTML = '';\n",
              "          dataTable['output_type'] = 'display_data';\n",
              "          await google.colab.output.renderOutput(dataTable, element);\n",
              "          const docLink = document.createElement('div');\n",
              "          docLink.innerHTML = docLinkHtml;\n",
              "          element.appendChild(docLink);\n",
              "        }\n",
              "      </script>\n",
              "    </div>\n",
              "  </div>\n",
              "  "
            ]
          },
          "metadata": {},
          "execution_count": 49
        }
      ]
    },
    {
      "cell_type": "code",
      "source": [
        "import timeit\n",
        "\n",
        "start = timeit.default_timer()\n",
        "\n"
      ],
      "metadata": {
        "id": "mySfo95stUKE"
      },
      "execution_count": 50,
      "outputs": []
    },
    {
      "cell_type": "code",
      "source": [
        "dt = DecisionTreeClassifier(max_depth = 90)\n",
        "dt.fit(X_DT_train, y_DT_train)\n"
      ],
      "metadata": {
        "colab": {
          "base_uri": "https://localhost:8080/"
        },
        "id": "cdBHKuvXSGQB",
        "outputId": "aeeed8c3-c644-49fe-cfe5-2eb468030eba"
      },
      "execution_count": 51,
      "outputs": [
        {
          "output_type": "stream",
          "name": "stdout",
          "text": [
            "\n",
            "Decision Tree(depth = 90) : \n",
            " {'coupon': {'<=3.5': {'CoffeeHouse': {'<=2.5': {'coupon': {'<=0.0': {'Bar': {'<=3.5': {'Bar': {'<=1.5': {'CarryAway': {'<=2.5': {'weather': {'<=1.5': {'occupation': {'<=5.5': {'maritalStatus': {'<=2.5': {'time': {'<=0.0': {'income': {'<=2.5': 1, '>2.5': 0}}, '>0.0': {'CarryAway': {'<=1.5': {'passanger': {'<=2.5': {'occupation': {'<=4.5': {'passanger': {'<=1.5': {'occupation': {'<=3.0': {'RestaurantLessThan20': {'<=1.5': {'income': {'<=4.5': {'CoffeeHouse': {'<=0.0': {'age': {'<=0.0': {'time': {'<=3.5': {'weather': {'<=0.0': 0, '>0.0': {'gender': {'<=0.0': 1, '>0.0': 0}}}}, '>3.5': {'gender': {'<=0.0': 0, '>0.0': 1}}}}, '>0.0': 1}}, '>0.0': 0}}, '>4.5': {'has_children': {'<=0.0': 1, '>0.0': 0}}}}, '>1.5': 0}}, '>3.0': 0}}, '>1.5': {'RestaurantLessThan20': {'<=0.0': 1, '>0.0': {'weather': {'<=0.0': {'gender': {'<=0.0': 1, '>0.0': 0}}, '>0.0': 0}}}}}}, '>4.5': {'passanger': {'<=1.5': {'weather': {'<=0.0': {'time': {'<=3.5': {'passanger': {'<=0.0': 0, '>0.0': 1}}, '>3.5': 1}}, '>0.0': 1}}, '>1.5': 0}}}}, '>2.5': 0}}, '>1.5': 1}}}}, '>2.5': {'occupation': {'<=4.5': 1, '>4.5': {'time': {'<=0.0': 1, '>0.0': 0}}}}}}, '>5.5': 0}}, '>1.5': {'temperature': {'<=1.5': {'Bar': {'<=0.0': {'has_children': {'<=0.0': {'time': {'<=3.5': {'education': {'<=3.0': {'age': {'<=0.0': {'expiration': {'<=0.0': 0, '>0.0': {'time': {'<=0.0': 1, '>0.0': 0}}}}, '>0.0': {'age': {'<=1.5': {'CarryAway': {'<=0.0': {'time': {'<=0.0': 0, '>0.0': 1}}, '>0.0': 1}}, '>1.5': {'time': {'<=0.0': 1, '>0.0': 0}}}}}}, '>3.0': 0}}, '>3.5': {'occupation': {'<=6.0': 1, '>6.0': 0}}}}, '>0.0': {'occupation': {'<=2.5': {'Restaurant20To50': {'<=2.0': {'time': {'<=0.0': {'gender': {'<=0.0': 1, '>0.0': 0}}, '>0.0': 0}}, '>2.0': {'CarryAway': {'<=0.0': 1, '>0.0': {'expiration': {'<=0.0': 0, '>0.0': {'passanger': {'<=2.5': 1, '>2.5': 0}}}}}}}}, '>2.5': 1}}}}, '>0.0': {'has_children': {'<=0.0': {'CarryAway': {'<=1.5': {'driving_distance': {'<=0.0': {'education': {'<=0.0': {'temperature': {'<=0.0': 1, '>0.0': 0}}, '>0.0': 0}}, '>0.0': {'direction_same': {'<=0.0': {'passanger': {'<=2.0': {'Restaurant20To50': {'<=0.0': 0, '>0.0': {'age': {'<=0.0': {'income': {'<=2.0': {'passanger': {'<=0.0': {'temperature': {'<=0.0': 0, '>0.0': 1}}, '>0.0': 1}}, '>2.0': 0}}, '>0.0': 1}}}}, '>2.0': 1}}, '>0.0': 0}}}}, '>1.5': 0}}, '>0.0': 0}}}}, '>1.5': {'maritalStatus': {'<=1.5': 0, '>1.5': {'RestaurantLessThan20': {'<=0.0': {'passanger': {'<=2.0': 0, '>2.0': {'time': {'<=1.5': 1, '>1.5': 0}}}}, '>0.0': {'driving_distance': {'<=1.5': {'CarryAway': {'<=0.0': {'passanger': {'<=0.0': {'RestaurantLessThan20': {'<=1.5': 1, '>1.5': 0}}, '>0.0': 0}}, '>0.0': {'income': {'<=6.0': 0, '>6.0': {'has_children': {'<=0.0': 1, '>0.0': 0}}}}}}, '>1.5': 0}}}}}}}}}}, '>2.5': {'weather': {'<=0.0': {'occupation': {'<=5.5': 0, '>5.5': {'education': {'<=4.0': 0, '>4.0': 1}}}}, '>0.0': {'age': {'<=0.0': {'driving_distance': {'<=1.5': {'expiration': {'<=0.0': 0, '>0.0': {'education': {'<=4.0': 1, '>4.0': 0}}}}, '>1.5': 1}}, '>0.0': 1}}}}}}, '>1.5': {'gender': {'<=0.0': {'education': {'<=3.5': {'occupation': {'<=1.5': 1, '>1.5': {'Restaurant20To50': {'<=1.5': {'CoffeeHouse': {'<=0.0': {'passanger': {'<=0.0': 1, '>0.0': {'passanger': {'<=2.0': 0, '>2.0': 1}}}}, '>0.0': 1}}, '>1.5': 1}}}}, '>3.5': 0}}, '>0.0': 0}}}}, '>3.5': 1}}, '>0.0': 0}}, '>2.5': 1}}, '>3.5': 0}}\n"
          ]
        }
      ]
    },
    {
      "cell_type": "code",
      "source": [
        "stop = timeit.default_timer()\n",
        "\n",
        "print('Time: ', stop - start)  "
      ],
      "metadata": {
        "colab": {
          "base_uri": "https://localhost:8080/"
        },
        "id": "cE-Ad_AjtVkq",
        "outputId": "fc2cbf14-89c3-469e-f947-14a81ab8dc57"
      },
      "execution_count": 52,
      "outputs": [
        {
          "output_type": "stream",
          "name": "stdout",
          "text": [
            "Time:  18.243829833999996\n"
          ]
        }
      ]
    },
    {
      "cell_type": "code",
      "source": [
        "print(\"Train Accuracy: {}\".format(accuracy_score(y_DT_train, dt.predict(X_DT_train))))\n",
        "print(\"Test Accuracy: {}\".format(accuracy_score(y_DT_test, dt.predict(X_DT_test))))"
      ],
      "metadata": {
        "colab": {
          "base_uri": "https://localhost:8080/"
        },
        "id": "TF6ap5bquI8K",
        "outputId": "763edd53-c80d-43ff-d6d7-81a9803910ea"
      },
      "execution_count": 53,
      "outputs": [
        {
          "output_type": "stream",
          "name": "stdout",
          "text": [
            "Train Accuracy: 63.15\n",
            "Test Accuracy: 62.58\n"
          ]
        }
      ]
    },
    {
      "cell_type": "code",
      "source": [
        "y_DT_pred=dt.predict(X_DT_test)\n",
        "from sklearn.metrics import confusion_matrix\n",
        "confusion = confusion_matrix(y_DT_test, y_DT_pred)\n",
        "print('Confusion Matrix\\n')\n",
        "print(confusion)"
      ],
      "metadata": {
        "id": "CnVK02ncSGWP",
        "colab": {
          "base_uri": "https://localhost:8080/"
        },
        "outputId": "0facdc80-e6c1-4af0-c13f-becc38a3d09a"
      },
      "execution_count": 54,
      "outputs": [
        {
          "output_type": "stream",
          "name": "stdout",
          "text": [
            "Confusion Matrix\n",
            "\n",
            "[[1196  646]\n",
            " [ 534  777]]\n"
          ]
        }
      ]
    },
    {
      "cell_type": "code",
      "source": [
        "print('\\nAccuracy: {:.3f}'.format(accuracy_score(y_DT_test, y_DT_pred)))\n",
        "print('Precision : {:.3f}'.format(precision_score(y_DT_test, y_DT_pred, pos_label=1, average='binary')))\n",
        "print('Recal : {:.3f}'.format(recall_score(y_DT_test, y_DT_pred, pos_label=1, average='binary')))\n",
        "print('F1 Score : {:.3f}'.format(f1_score(y_DT_test, y_DT_pred, pos_label=1, average='binary')))"
      ],
      "metadata": {
        "id": "hCh9VLBmSco3",
        "colab": {
          "base_uri": "https://localhost:8080/"
        },
        "outputId": "fced823e-08ff-4686-8cbd-800c5fcc72a2"
      },
      "execution_count": 55,
      "outputs": [
        {
          "output_type": "stream",
          "name": "stdout",
          "text": [
            "\n",
            "Accuracy: 62.580\n",
            "Precision : 0.546\n",
            "Recal : 0.593\n",
            "F1 Score : 0.568\n"
          ]
        }
      ]
    },
    {
      "cell_type": "code",
      "source": [
        "from sklearn.metrics import classification_report\n",
        "print('\\nDecision Tree Classification Report\\n')\n",
        "print(classification_report(y_DT_test, y_DT_pred))"
      ],
      "metadata": {
        "id": "ydn96gVJTtuP",
        "colab": {
          "base_uri": "https://localhost:8080/"
        },
        "outputId": "5130c5b8-9269-4604-8197-30a2a5494444"
      },
      "execution_count": 56,
      "outputs": [
        {
          "output_type": "stream",
          "name": "stdout",
          "text": [
            "\n",
            "Decision Tree Classification Report\n",
            "\n",
            "              precision    recall  f1-score   support\n",
            "\n",
            "           0       0.69      0.65      0.67      1842\n",
            "           1       0.55      0.59      0.57      1311\n",
            "\n",
            "    accuracy                           0.63      3153\n",
            "   macro avg       0.62      0.62      0.62      3153\n",
            "weighted avg       0.63      0.63      0.63      3153\n",
            "\n"
          ]
        }
      ]
    },
    {
      "cell_type": "markdown",
      "source": [
        "Nerual Network"
      ],
      "metadata": {
        "id": "EG_BqZWZYi9n"
      }
    },
    {
      "cell_type": "code",
      "source": [
        "df_nn = df_enco.copy() "
      ],
      "metadata": {
        "id": "l-7AlTpyYkeV"
      },
      "execution_count": 57,
      "outputs": []
    },
    {
      "cell_type": "code",
      "source": [
        "X_NN = df_nn.drop('Y',axis=1)\n",
        "y_NN = df_nn['Y']"
      ],
      "metadata": {
        "id": "6XESIpOvYrMT"
      },
      "execution_count": 58,
      "outputs": []
    },
    {
      "cell_type": "code",
      "source": [
        "def create_model():\n",
        "    model = tf.keras.Sequential([\n",
        "          tf.keras.layers.InputLayer(input_shape = (20)),\n",
        "          tf.keras.layers.Dense(64, activation = \"relu\", kernel_initializer='normal'),\n",
        "          tf.keras.layers.Dense(32, activation = \"sigmoid\", kernel_initializer='normal'),\n",
        "          tf.keras.layers.Dense(1, activation='hard_sigmoid', kernel_initializer='normal')\n",
        "      ])\n",
        "\n",
        "    model.compile(optimizer = \"adam\", loss='binary_crossentropy', metrics=['accuracy'])\n",
        "    \n",
        "    return model\n"
      ],
      "metadata": {
        "id": "C9XMKe6PY1Km"
      },
      "execution_count": 59,
      "outputs": []
    },
    {
      "cell_type": "code",
      "source": [
        "es = EarlyStopping(monitor='val_accuracy', mode='max', verbose=1)\n"
      ],
      "metadata": {
        "id": "QtIa60nvY8Vr"
      },
      "execution_count": 60,
      "outputs": []
    },
    {
      "cell_type": "code",
      "source": [
        "X_NN_train, X_NN_test, y_NN_train, y_NN_test = train_test_split(X_NN, y_NN, test_size=0.25, random_state= 0)\n"
      ],
      "metadata": {
        "id": "wRrvmLWkZG5h"
      },
      "execution_count": 61,
      "outputs": []
    },
    {
      "cell_type": "code",
      "source": [
        "start = timeit.default_timer()"
      ],
      "metadata": {
        "id": "xhKSCpKBmsEc"
      },
      "execution_count": 62,
      "outputs": []
    },
    {
      "cell_type": "code",
      "source": [
        "seed = 10\n",
        "np.random.seed(seed)\n",
        "\n",
        "model = create_model()\n",
        "history = model.fit(X_NN_train, y_NN_train, validation_split = 0.2, epochs=50, batch_size= 512, verbose =0)\n",
        "#callbacks=[es]\n",
        "\n",
        "# plot training history\n",
        "plt.plot(history.history['accuracy'])\n",
        "plt.plot(history.history['val_accuracy'])\n",
        "plt.title('model accuracy')\n",
        "plt.ylabel('accuracy')\n",
        "plt.xlabel('epoch')\n",
        "plt.legend(['train', 'val'], loc='upper left')\n",
        "plt.show()\n"
      ],
      "metadata": {
        "colab": {
          "base_uri": "https://localhost:8080/",
          "height": 355
        },
        "id": "dgIn3Sg6Y_bX",
        "outputId": "021dc141-e262-4519-d9e7-cf62a149190a"
      },
      "execution_count": 63,
      "outputs": [
        {
          "output_type": "display_data",
          "data": {
            "text/plain": [
              "<Figure size 720x360 with 1 Axes>"
            ],
            "image/png": "[encoded data removed]"
          },
          "metadata": {}
        }
      ]
    },
    {
      "cell_type": "code",
      "source": [
        "stop = timeit.default_timer()\n",
        "\n",
        "print('Time: ', stop - start) "
      ],
      "metadata": {
        "colab": {
          "base_uri": "https://localhost:8080/"
        },
        "id": "3Ib0dbn1myP6",
        "outputId": "f51c9251-073a-48fd-9da9-34b9aa9aa00a"
      },
      "execution_count": 64,
      "outputs": [
        {
          "output_type": "stream",
          "name": "stdout",
          "text": [
            "Time:  5.6364646929999935\n"
          ]
        }
      ]
    },
    {
      "cell_type": "code",
      "source": [
        "estimator = tf.keras.wrappers.scikit_learn.KerasClassifier(build_fn=create_model, epochs=50, batch_size=512, validation_split = 0.2, verbose=0)\n",
        "kfold = StratifiedKFold(n_splits=5, shuffle=True)\n",
        "results = cross_val_score(estimator, X_NN_train, y_NN_train, cv=kfold)\n",
        "print(\" Training Accuracy: %.2f%% (%.2f%%)\" % (results.mean()*100, results.std()*100))\n"
      ],
      "metadata": {
        "colab": {
          "base_uri": "https://localhost:8080/"
        },
        "id": "9gmQpv7jaX9f",
        "outputId": "1ccb6d0c-6c4a-45e6-859f-334ba559b002"
      },
      "execution_count": 65,
      "outputs": [
        {
          "output_type": "stream",
          "name": "stderr",
          "text": [
            "<ipython-input-65-4a24ad0f1585>:1: DeprecationWarning: KerasClassifier is deprecated, use Sci-Keras (https://github.com/adriangb/scikeras) instead. See https://www.adriangb.com/scikeras/stable/migration.html for help migrating.\n",
            "  estimator = tf.keras.wrappers.scikit_learn.KerasClassifier(build_fn=create_model, epochs=50, batch_size=512, validation_split = 0.2, verbose=0)\n"
          ]
        },
        {
          "output_type": "stream",
          "name": "stdout",
          "text": [
            " Training Accuracy: 64.67% (1.03%)\n"
          ]
        }
      ]
    },
    {
      "cell_type": "code",
      "source": [
        "estimator = tf.keras.wrappers.scikit_learn.KerasClassifier(build_fn=create_model, epochs=50, batch_size=512, validation_split = 0.2, verbose=0)\n",
        "kfold = StratifiedKFold(n_splits=5, shuffle=True)\n",
        "results = cross_val_score(estimator, X_NN_test , y_NN_test , cv=kfold)\n",
        "print(\" Testing  Accuracy: %.2f%% (%.2f%%)\" % (results.mean()*100, results.std()*100))"
      ],
      "metadata": {
        "colab": {
          "base_uri": "https://localhost:8080/"
        },
        "id": "kh01j5UyV9q7",
        "outputId": "07e91349-c2d5-4e2e-a984-c1aae365720d"
      },
      "execution_count": 66,
      "outputs": [
        {
          "output_type": "stream",
          "name": "stderr",
          "text": [
            "<ipython-input-66-becea31ff12a>:1: DeprecationWarning: KerasClassifier is deprecated, use Sci-Keras (https://github.com/adriangb/scikeras) instead. See https://www.adriangb.com/scikeras/stable/migration.html for help migrating.\n",
            "  estimator = tf.keras.wrappers.scikit_learn.KerasClassifier(build_fn=create_model, epochs=50, batch_size=512, validation_split = 0.2, verbose=0)\n"
          ]
        },
        {
          "output_type": "stream",
          "name": "stdout",
          "text": [
            " Testing  Accuracy: 62.89% (2.31%)\n"
          ]
        }
      ]
    },
    {
      "cell_type": "code",
      "source": [
        "n = 0\n",
        "acc_scores = []\n",
        "while n < 10:\n",
        "    print(n)\n",
        "    model = create_model()\n",
        "    history = model.fit(X_NN_train, y_NN_train, validation_split = 0.2, epochs=50, batch_size=512, verbose =0)\n",
        "    loss_and_metrics = model.evaluate(X_NN_test, y_NN_test)\n",
        "    acc_scores.append(loss_and_metrics[1])\n",
        "    n +=1"
      ],
      "metadata": {
        "colab": {
          "base_uri": "https://localhost:8080/"
        },
        "id": "I5bqIlKFizvJ",
        "outputId": "c489815d-6753-49ad-f6b7-2f7102086109"
      },
      "execution_count": 67,
      "outputs": [
        {
          "output_type": "stream",
          "name": "stdout",
          "text": [
            "0\n",
            "99/99 [==============================] - 0s 2ms/step - loss: 0.6323 - accuracy: 0.6365\n",
            "1\n",
            "99/99 [==============================] - 0s 1ms/step - loss: 0.6019 - accuracy: 0.6721\n",
            "2\n",
            "99/99 [==============================] - 0s 1ms/step - loss: 0.6031 - accuracy: 0.6695\n",
            "3\n",
            "99/99 [==============================] - 0s 1ms/step - loss: 0.6091 - accuracy: 0.6622\n",
            "4\n",
            "99/99 [==============================] - 0s 1ms/step - loss: 0.6191 - accuracy: 0.6508\n",
            "5\n",
            "99/99 [==============================] - 0s 1ms/step - loss: 0.6116 - accuracy: 0.6556\n",
            "6\n",
            "99/99 [==============================] - 0s 2ms/step - loss: 0.5988 - accuracy: 0.6736\n",
            "7\n",
            "99/99 [==============================] - 0s 2ms/step - loss: 0.6223 - accuracy: 0.6438\n",
            "8\n",
            "99/99 [==============================] - 0s 1ms/step - loss: 0.5973 - accuracy: 0.6809\n",
            "9\n",
            "99/99 [==============================] - 0s 2ms/step - loss: 0.6200 - accuracy: 0.6508\n"
          ]
        }
      ]
    },
    {
      "cell_type": "code",
      "source": [
        "\n",
        "acc_scores = pd.Series(acc_scores)\n",
        "acc_scores.describe()\n"
      ],
      "metadata": {
        "colab": {
          "base_uri": "https://localhost:8080/"
        },
        "id": "xAon5DDfa_gI",
        "outputId": "fe0e4e0e-596d-4495-e260-87bd2d0a5d1e"
      },
      "execution_count": 68,
      "outputs": [
        {
          "output_type": "execute_result",
          "data": {
            "text/plain": [
              "count    10.000000\n",
              "mean      0.659594\n",
              "std       0.014393\n",
              "min       0.636537\n",
              "25%       0.650809\n",
              "50%       0.658896\n",
              "75%       0.671424\n",
              "max       0.680939\n",
              "dtype: float64"
            ]
          },
          "metadata": {},
          "execution_count": 68
        }
      ]
    },
    {
      "cell_type": "markdown",
      "source": [
        "Logistic Regression"
      ],
      "metadata": {
        "id": "CGDGwRT_lrOf"
      }
    },
    {
      "cell_type": "code",
      "source": [
        "df_LR = df_enco.copy()"
      ],
      "metadata": {
        "id": "rKvQy8N0ls-j"
      },
      "execution_count": 69,
      "outputs": []
    },
    {
      "cell_type": "code",
      "source": [
        "df_LR.head()"
      ],
      "metadata": {
        "colab": {
          "base_uri": "https://localhost:8080/",
          "height": 300
        },
        "id": "nLNIpL0ho2wK",
        "outputId": "f196a324-c034-46e3-cc40-3925fbf6fbf3"
      },
      "execution_count": 70,
      "outputs": [
        {
          "output_type": "execute_result",
          "data": {
            "text/plain": [
              "   passanger  weather  temperature  time  coupon  expiration  gender  age  \\\n",
              "0          0        2            2     2       4           0       0    0   \n",
              "1          1        2            0     0       2           1       0    0   \n",
              "2          1        2            0     0       1           1       0    0   \n",
              "3          1        2            0     2       2           1       0    0   \n",
              "4          1        2            0     2       2           0       0    0   \n",
              "\n",
              "   maritalStatus  has_children  ...  occupation  income  Bar  CoffeeHouse  \\\n",
              "0              3             1  ...           7       3    4            4   \n",
              "1              3             1  ...           7       3    4            4   \n",
              "2              3             1  ...           7       3    4            4   \n",
              "3              3             1  ...           7       3    4            4   \n",
              "4              3             1  ...           7       3    4            4   \n",
              "\n",
              "   CarryAway  RestaurantLessThan20  Restaurant20To50  direction_same  Y  \\\n",
              "0          0                     1                 0               0  0   \n",
              "1          0                     1                 0               0  1   \n",
              "2          0                     1                 0               0  0   \n",
              "3          0                     1                 0               0  1   \n",
              "4          0                     1                 0               0  1   \n",
              "\n",
              "   driving_distance  \n",
              "0                 2  \n",
              "1                 2  \n",
              "2                 0  \n",
              "3                 0  \n",
              "4                 0  \n",
              "\n",
              "[5 rows x 21 columns]"
            ],
            "text/html": [
              "\n",
              "  <div id=\"df-25cc0f6b-b124-4989-9cb4-ef5e48168828\">\n",
              "    <div class=\"colab-df-container\">\n",
              "      <div>\n",
              "<style scoped>\n",
              "    .dataframe tbody tr th:only-of-type {\n",
              "        vertical-align: middle;\n",
              "    }\n",
              "\n",
              "    .dataframe tbody tr th {\n",
              "        vertical-align: top;\n",
              "    }\n",
              "\n",
              "    .dataframe thead th {\n",
              "        text-align: right;\n",
              "    }\n",
              "</style>\n",
              "<table border=\"1\" class=\"dataframe\">\n",
              "  <thead>\n",
              "    <tr style=\"text-align: right;\">\n",
              "      <th></th>\n",
              "      <th>passanger</th>\n",
              "      <th>weather</th>\n",
              "      <th>temperature</th>\n",
              "      <th>time</th>\n",
              "      <th>coupon</th>\n",
              "      <th>expiration</th>\n",
              "      <th>gender</th>\n",
              "      <th>age</th>\n",
              "      <th>maritalStatus</th>\n",
              "      <th>has_children</th>\n",
              "      <th>...</th>\n",
              "      <th>occupation</th>\n",
              "      <th>income</th>\n",
              "      <th>Bar</th>\n",
              "      <th>CoffeeHouse</th>\n",
              "      <th>CarryAway</th>\n",
              "      <th>RestaurantLessThan20</th>\n",
              "      <th>Restaurant20To50</th>\n",
              "      <th>direction_same</th>\n",
              "      <th>Y</th>\n",
              "      <th>driving_distance</th>\n",
              "    </tr>\n",
              "  </thead>\n",
              "  <tbody>\n",
              "    <tr>\n",
              "      <th>0</th>\n",
              "      <td>0</td>\n",
              "      <td>2</td>\n",
              "      <td>2</td>\n",
              "      <td>2</td>\n",
              "      <td>4</td>\n",
              "      <td>0</td>\n",
              "      <td>0</td>\n",
              "      <td>0</td>\n",
              "      <td>3</td>\n",
              "      <td>1</td>\n",
              "      <td>...</td>\n",
              "      <td>7</td>\n",
              "      <td>3</td>\n",
              "      <td>4</td>\n",
              "      <td>4</td>\n",
              "      <td>0</td>\n",
              "      <td>1</td>\n",
              "      <td>0</td>\n",
              "      <td>0</td>\n",
              "      <td>0</td>\n",
              "      <td>2</td>\n",
              "    </tr>\n",
              "    <tr>\n",
              "      <th>1</th>\n",
              "      <td>1</td>\n",
              "      <td>2</td>\n",
              "      <td>0</td>\n",
              "      <td>0</td>\n",
              "      <td>2</td>\n",
              "      <td>1</td>\n",
              "      <td>0</td>\n",
              "      <td>0</td>\n",
              "      <td>3</td>\n",
              "      <td>1</td>\n",
              "      <td>...</td>\n",
              "      <td>7</td>\n",
              "      <td>3</td>\n",
              "      <td>4</td>\n",
              "      <td>4</td>\n",
              "      <td>0</td>\n",
              "      <td>1</td>\n",
              "      <td>0</td>\n",
              "      <td>0</td>\n",
              "      <td>1</td>\n",
              "      <td>2</td>\n",
              "    </tr>\n",
              "    <tr>\n",
              "      <th>2</th>\n",
              "      <td>1</td>\n",
              "      <td>2</td>\n",
              "      <td>0</td>\n",
              "      <td>0</td>\n",
              "      <td>1</td>\n",
              "      <td>1</td>\n",
              "      <td>0</td>\n",
              "      <td>0</td>\n",
              "      <td>3</td>\n",
              "      <td>1</td>\n",
              "      <td>...</td>\n",
              "      <td>7</td>\n",
              "      <td>3</td>\n",
              "      <td>4</td>\n",
              "      <td>4</td>\n",
              "      <td>0</td>\n",
              "      <td>1</td>\n",
              "      <td>0</td>\n",
              "      <td>0</td>\n",
              "      <td>0</td>\n",
              "      <td>0</td>\n",
              "    </tr>\n",
              "    <tr>\n",
              "      <th>3</th>\n",
              "      <td>1</td>\n",
              "      <td>2</td>\n",
              "      <td>0</td>\n",
              "      <td>2</td>\n",
              "      <td>2</td>\n",
              "      <td>1</td>\n",
              "      <td>0</td>\n",
              "      <td>0</td>\n",
              "      <td>3</td>\n",
              "      <td>1</td>\n",
              "      <td>...</td>\n",
              "      <td>7</td>\n",
              "      <td>3</td>\n",
              "      <td>4</td>\n",
              "      <td>4</td>\n",
              "      <td>0</td>\n",
              "      <td>1</td>\n",
              "      <td>0</td>\n",
              "      <td>0</td>\n",
              "      <td>1</td>\n",
              "      <td>0</td>\n",
              "    </tr>\n",
              "    <tr>\n",
              "      <th>4</th>\n",
              "      <td>1</td>\n",
              "      <td>2</td>\n",
              "      <td>0</td>\n",
              "      <td>2</td>\n",
              "      <td>2</td>\n",
              "      <td>0</td>\n",
              "      <td>0</td>\n",
              "      <td>0</td>\n",
              "      <td>3</td>\n",
              "      <td>1</td>\n",
              "      <td>...</td>\n",
              "      <td>7</td>\n",
              "      <td>3</td>\n",
              "      <td>4</td>\n",
              "      <td>4</td>\n",
              "      <td>0</td>\n",
              "      <td>1</td>\n",
              "      <td>0</td>\n",
              "      <td>0</td>\n",
              "      <td>1</td>\n",
              "      <td>0</td>\n",
              "    </tr>\n",
              "  </tbody>\n",
              "</table>\n",
              "<p>5 rows × 21 columns</p>\n",
              "</div>\n",
              "      <button class=\"colab-df-convert\" onclick=\"convertToInteractive('df-25cc0f6b-b124-4989-9cb4-ef5e48168828')\"\n",
              "              title=\"Convert this dataframe to an interactive table.\"\n",
              "              style=\"display:none;\">\n",
              "        \n",
              "  <svg xmlns=\"http://www.w3.org/2000/svg\" height=\"24px\"viewBox=\"0 0 24 24\"\n",
              "       width=\"24px\">\n",
              "    <path d=\"M0 0h24v24H0V0z\" fill=\"none\"/>\n",
              "    <path d=\"M18.56 5.44l.94 2.06.94-2.06 2.06-.94-2.06-.94-.94-2.06-.94 2.06-2.06.94zm-11 1L8.5 8.5l.94-2.06 2.06-.94-2.06-.94L8.5 2.5l-.94 2.06-2.06.94zm10 10l.94 2.06.94-2.06 2.06-.94-2.06-.94-.94-2.06-.94 2.06-2.06.94z\"/><path d=\"M17.41 7.96l-1.37-1.37c-.4-.4-.92-.59-1.43-.59-.52 0-1.04.2-1.43.59L10.3 9.45l-7.72 7.72c-.78.78-.78 2.05 0 2.83L4 21.41c.39.39.9.59 1.41.59.51 0 1.02-.2 1.41-.59l7.78-7.78 2.81-2.81c.8-.78.8-2.07 0-2.86zM5.41 20L4 18.59l7.72-7.72 1.47 1.35L5.41 20z\"/>\n",
              "  </svg>\n",
              "      </button>\n",
              "      \n",
              "  <style>\n",
              "    .colab-df-container {\n",
              "      display:flex;\n",
              "      flex-wrap:wrap;\n",
              "      gap: 12px;\n",
              "    }\n",
              "\n",
              "    .colab-df-convert {\n",
              "      background-color: #E8F0FE;\n",
              "      border: none;\n",
              "      border-radius: 50%;\n",
              "      cursor: pointer;\n",
              "      display: none;\n",
              "      fill: #1967D2;\n",
              "      height: 32px;\n",
              "      padding: 0 0 0 0;\n",
              "      width: 32px;\n",
              "    }\n",
              "\n",
              "    .colab-df-convert:hover {\n",
              "      background-color: #E2EBFA;\n",
              "      box-shadow: 0px 1px 2px rgba(60, 64, 67, 0.3), 0px 1px 3px 1px rgba(60, 64, 67, 0.15);\n",
              "      fill: #174EA6;\n",
              "    }\n",
              "\n",
              "    [theme=dark] .colab-df-convert {\n",
              "      background-color: #3B4455;\n",
              "      fill: #D2E3FC;\n",
              "    }\n",
              "\n",
              "    [theme=dark] .colab-df-convert:hover {\n",
              "      background-color: #434B5C;\n",
              "      box-shadow: 0px 1px 3px 1px rgba(0, 0, 0, 0.15);\n",
              "      filter: drop-shadow(0px 1px 2px rgba(0, 0, 0, 0.3));\n",
              "      fill: #FFFFFF;\n",
              "    }\n",
              "  </style>\n",
              "\n",
              "      <script>\n",
              "        const buttonEl =\n",
              "          document.querySelector('#df-25cc0f6b-b124-4989-9cb4-ef5e48168828 button.colab-df-convert');\n",
              "        buttonEl.style.display =\n",
              "          google.colab.kernel.accessAllowed ? 'block' : 'none';\n",
              "\n",
              "        async function convertToInteractive(key) {\n",
              "          const element = document.querySelector('#df-25cc0f6b-b124-4989-9cb4-ef5e48168828');\n",
              "          const dataTable =\n",
              "            await google.colab.kernel.invokeFunction('convertToInteractive',\n",
              "                                                     [key], {});\n",
              "          if (!dataTable) return;\n",
              "\n",
              "          const docLinkHtml = 'Like what you see? Visit the ' +\n",
              "            '<a target=\"_blank\" href=https://colab.research.google.com/notebooks/data_table.ipynb>data table notebook</a>'\n",
              "            + ' to learn more about interactive tables.';\n",
              "          element.innerHTML = '';\n",
              "          dataTable['output_type'] = 'display_data';\n",
              "          await google.colab.output.renderOutput(dataTable, element);\n",
              "          const docLink = document.createElement('div');\n",
              "          docLink.innerHTML = docLinkHtml;\n",
              "          element.appendChild(docLink);\n",
              "        }\n",
              "      </script>\n",
              "    </div>\n",
              "  </div>\n",
              "  "
            ]
          },
          "metadata": {},
          "execution_count": 70
        }
      ]
    },
    {
      "cell_type": "code",
      "source": [
        "X = df_LR.drop('Y',axis=1)\n",
        "y = df_LR['Y']\n",
        "\n",
        "test_X = X.sample(frac = 0.25, random_state = None)\n",
        "test_y = y[test_X.index]\n",
        "train_X = X.drop(test_X.index)\n",
        "train_y = y.drop(test_y.index)\n"
      ],
      "metadata": {
        "id": "6KKqzy6Bsl5k"
      },
      "execution_count": 71,
      "outputs": []
    },
    {
      "cell_type": "code",
      "source": [
        "from IPython.testing import test \n",
        "from dataclasses import dataclass\n",
        "@dataclass\n",
        "class LogisticRegression1:\n",
        "    df_pro: int\n",
        "    learningRate: float\n",
        "    epsilon: float\n",
        "    maxIteration: int\n",
        "    #filePath: str\n",
        "    removeIndex: bool\n",
        "    index:int\n",
        "\n",
        "    def __post_init__(self):\n",
        "      self.train_X, self.test_X, self.train_y, self.test_y = self.readDataset()\n",
        "    \n",
        "    def readDataset(self):\n",
        "      #df_pro= pd.read_csv(filePath)\n",
        "      X = df_LR.drop('Y',axis=1)\n",
        "      y = df_LR['Y']\n",
        "\n",
        "      test_X = X.sample(frac = 0.25, random_state = None)\n",
        "      test_y = y[test_X.index]\n",
        "      train_X = X.drop(test_X.index)\n",
        "      train_y = y.drop(test_y.index)\n",
        "\n",
        "      return train_X, test_X, train_y, test_y\n",
        "  \n",
        "\n",
        "  \n",
        "    def sigmoid(self, z):\n",
        "      sig= 1/(1+ np.exp(-z))\n",
        "      return sig\n",
        "\n",
        "    def costFunction(self, X, y):\n",
        "      sig= self.sigmoid(X.dot(self.w))\n",
        "\n",
        "      cost= (y* np.log(sig)+(1-y)*np.log(1-sig)).sum()\n",
        "      cost=-cost/X.shape[0]\n",
        "\n",
        "      return cost\n",
        "\n",
        "    def gradient(self,X,y):\n",
        "      sig= self.sigmoid(X.dot(self.w))\n",
        "      gradient= (sig - y).dot(X)\n",
        "      return gradient\n",
        "\n",
        "    def gradientDescent(self, X, y):\n",
        "      errors=[]\n",
        "      last_error= float('inf')\n",
        "\n",
        "      for i in tqdm(range(self.maxIteration)):\n",
        "        self.w=self.w- self.learningRate*self.gradient(X,y)\n",
        "\n",
        "        current_error= self.costFunction(X,y)\n",
        "        diff= last_error-current_error\n",
        "        last_error=current_error\n",
        "        errors.append(current_error)\n",
        "\n",
        "        if np.abs(diff)< self.epsilon:\n",
        "          print (\" the model stopped learning\")\n",
        "          break\n",
        "      return\n",
        "\n",
        "    def predict( self, X):\n",
        "      sig= self.sigmoid(X.dot(self.w))\n",
        "      return np.around(sig)\n",
        "\n",
        "    def evaluate(self, y, y_hat):\n",
        "      y= (y==1)  \n",
        "      y_hat=(y_hat==1)\n",
        "\n",
        "      recall= (y & y_hat).sum()/ y.sum()\n",
        "      precision= (y & y_hat).sum()/ y_hat.sum()\n",
        "\n",
        "      f_score= 2*(precision* recall)/(precision +recall)\n",
        "      return f_score, recall, precision\n",
        "\n",
        "    def plot(self):\n",
        "      plt.figure(figsize=(12, 8))\n",
        "      ax = plt.axes(projection='3d')\n",
        "\n",
        "      ax.scatter3D(self.X_train[:, 0], self.X_train[:, 1], \n",
        "                  self.sigmoid(self.X_train.dot(self.w)), \n",
        "                  c = self.y_train[:], cmap='viridis', s=100);\n",
        "\n",
        "      ax.set_xlim3d(55, 80)\n",
        "      ax.set_ylim3d(80, 240)\n",
        "      plt.xlabel('$x_1$ feature', fontsize=15)\n",
        "      plt.ylabel('$x_2$ feature', fontsize=15, )\n",
        "      ax.set_zlabel('$P(Y = 1|x_1, x_2)$', fontsize=15, rotation = 0)\n",
        " \n",
        "  \n",
        "    def scatterPlt(self):\n",
        "\n",
        "      x_min, x_max = 55,80\n",
        "      y_min, y_max = 80, 240\n",
        "\n",
        "      xx, yy = np.meshgrid(np.linspace(x_min, x_max, 250),\n",
        "                          np.linspace(y_min, y_max, 250))\n",
        "      grid = np.c_[xx.ravel(), yy.ravel()]\n",
        "      probs = grid.dot(self.w).reshape(xx.shape)\n",
        "\n",
        "      f, ax = plt.subplots(figsize=(14,12))\n",
        "\n",
        "\n",
        "      ax.contour(xx, yy, probs, levels=[0.5], cmap=\"Greys\", vmin=0, vmax=.6)\n",
        "\n",
        "\n",
        "      ax.scatter(self.X_train[:, 0], self.X_train[:, 1], \n",
        "                c=self.y_train[:], s=50,\n",
        "                cmap=\"RdBu\", vmin=-.2, vmax=1.2,\n",
        "                edgecolor=\"white\", linewidth=1)\n",
        "\n",
        "      plt.xlabel('x1 feature')\n",
        "      plt.ylabel('x2 feature')\n",
        "      plt.show()\n",
        "      \n",
        "\n",
        "    def plot3D(self):\n",
        "      x_min, x_max = 55, 80\n",
        "      y_min, y_max = 80, 240\n",
        "    \n",
        "      xx, yy = np.meshgrid(np.linspace(x_min, x_max, 250),\n",
        "                          np.linspace(y_min, y_max, 250))\n",
        "    \n",
        "      grid = np.c_[xx.ravel(), yy.ravel()]\n",
        "      probs = grid.dot(self.w).reshape(xx.shape)\n",
        "      fig = plt.figure(figsize=(14,12))\n",
        "      ax = plt.axes(projection='3d')\n",
        "      ax.contour3D(xx, yy, probs, 50, cmap='binary')\n",
        "\n",
        "      ax.scatter3D(self.X_train[:, 0], self.X_train[:, 1], \n",
        "                c=self.y_train[:], s=50,\n",
        "                cmap=\"RdBu\", vmin=-.2, vmax=1.2,\n",
        "                edgecolor=\"white\", linewidth=1)\n",
        "\n",
        "      ax.set_xlabel('x1')\n",
        "      ax.set_ylabel('x2')\n",
        "      ax.set_zlabel('probs')\n",
        "      ax.set_title('3D contour')\n",
        "      plt.show()\n",
        "\n",
        "    def fit1(self):\n",
        "\n",
        "    \n",
        "      self.w= np.ones(self.train_X.shape[1], dtype= np.float64) * 0\n",
        "\n",
        "      self.gradientDescent(self.train_X, self.train_y)\n",
        "      print(self.w)\n",
        "\n",
        "      y_train_hat= self.predict(self.train_X)\n",
        "  \n",
        "      f_score, recall, precision = self.evaluate(self.train_y, y_train_hat)\n",
        "\n",
        "      print(\"The train F1 score of the model is {}\".format(f_score))\n",
        "      print(\"The train recall score of the model is {}\".format(recall))\n",
        "      print(\"The train precision score of the model is {}\".format(precision))"
      ],
      "metadata": {
        "id": "QdeIQ5dQpe1F"
      },
      "execution_count": 72,
      "outputs": []
    },
    {
      "cell_type": "code",
      "source": [
        "lr= LogisticRegression1(df_LR, learningRate=0.3, epsilon=0.01, maxIteration=10000, removeIndex=False, index=[])\n",
        "lr.fit1()"
      ],
      "metadata": {
        "colab": {
          "base_uri": "https://localhost:8080/"
        },
        "id": "WXvASJcyqL_o",
        "outputId": "29e1f410-ba40-43c6-d15e-03025d4ef8f1"
      },
      "execution_count": 73,
      "outputs": [
        {
          "output_type": "stream",
          "name": "stderr",
          "text": [
            "  0%|          | 0/10000 [00:00<?, ?it/s]/usr/local/lib/python3.8/dist-packages/pandas/core/arraylike.py:364: RuntimeWarning: overflow encountered in exp\n",
            "  result = getattr(ufunc, method)(*inputs, **kwargs)\n",
            "/usr/local/lib/python3.8/dist-packages/pandas/core/arraylike.py:364: RuntimeWarning: divide by zero encountered in log\n",
            "  result = getattr(ufunc, method)(*inputs, **kwargs)\n",
            "<ipython-input-72-10517d41af3b>:55: RuntimeWarning: invalid value encountered in double_scalars\n",
            "  diff= last_error-current_error\n",
            "100%|██████████| 10000/10000 [01:27<00:00, 114.47it/s]"
          ]
        },
        {
          "output_type": "stream",
          "name": "stdout",
          "text": [
            "passanger               -4953.484109\n",
            "weather                -10382.664195\n",
            "temperature              -219.946387\n",
            "time                     2784.415628\n",
            "coupon                  -8750.722362\n",
            "expiration              32076.968651\n",
            "gender                  -8126.598920\n",
            "age                       559.242997\n",
            "maritalStatus           -1914.158801\n",
            "has_children             4582.107126\n",
            "education               -5313.465503\n",
            "occupation              -3680.569525\n",
            "income                  -1810.892393\n",
            "Bar                     -1036.667411\n",
            "CoffeeHouse              5923.471636\n",
            "CarryAway                1051.525972\n",
            "RestaurantLessThan20    -2496.482282\n",
            "Restaurant20To50          468.749263\n",
            "direction_same         -12729.024751\n",
            "driving_distance        -2701.171747\n",
            "dtype: float64\n",
            "The train F1 score of the model is 0.05549079039403124\n",
            "The train recall score of the model is 0.029102470041574957\n",
            "The train precision score of the model is 0.595\n"
          ]
        },
        {
          "output_type": "stream",
          "name": "stderr",
          "text": [
            "\n"
          ]
        }
      ]
    },
    {
      "cell_type": "code",
      "source": [
        "print(\"train accuracy: {}\".format(accuracy_score(train_y, lr.predict(train_X))))"
      ],
      "metadata": {
        "colab": {
          "base_uri": "https://localhost:8080/"
        },
        "id": "qiVu67ZxsYkw",
        "outputId": "531191ae-80ef-43f2-aa18-c033c528759a"
      },
      "execution_count": 74,
      "outputs": [
        {
          "output_type": "stream",
          "name": "stdout",
          "text": [
            "train accuracy: 57.04\n"
          ]
        }
      ]
    },
    {
      "cell_type": "code",
      "source": [
        "print(\"test accuracy: {}\".format(accuracy_score(test_y, lr.predict(test_X))))"
      ],
      "metadata": {
        "colab": {
          "base_uri": "https://localhost:8080/"
        },
        "id": "bfo1_IBZs7dt",
        "outputId": "79c8d4d2-307a-4aca-cc9b-b36ae0f6de71"
      },
      "execution_count": 75,
      "outputs": [
        {
          "output_type": "stream",
          "name": "stdout",
          "text": [
            "test accuracy: 57.99\n"
          ]
        }
      ]
    },
    {
      "cell_type": "code",
      "source": [
        "from sklearn.linear_model import LogisticRegression"
      ],
      "metadata": {
        "id": "lDX1Z4l9tuiH"
      },
      "execution_count": 76,
      "outputs": []
    },
    {
      "cell_type": "code",
      "source": [
        "clf = LogisticRegression(random_state=0).fit(test_X, test_y)"
      ],
      "metadata": {
        "id": "hvPM4xyvt2Le"
      },
      "execution_count": 77,
      "outputs": []
    },
    {
      "cell_type": "code",
      "source": [
        "print(\"train accuracy: {}\".format(accuracy_score(train_y, clf.predict(train_X))))"
      ],
      "metadata": {
        "colab": {
          "base_uri": "https://localhost:8080/"
        },
        "id": "c4Re90q0uKPG",
        "outputId": "d7602042-99e7-4c96-dd5a-f77eeadfa92f"
      },
      "execution_count": 78,
      "outputs": [
        {
          "output_type": "stream",
          "name": "stdout",
          "text": [
            "train accuracy: 62.55\n"
          ]
        }
      ]
    }
  ]
}